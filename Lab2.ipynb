{
 "cells": [
  {
   "cell_type": "code",
   "execution_count": 56,
   "metadata": {},
   "outputs": [],
   "source": [
    "import pandas as pd\n",
    "from pycaret.regression import *\n",
    "import warnings\n"
   ]
  },
  {
   "cell_type": "markdown",
   "metadata": {},
   "source": [
    "1. Carga de datos"
   ]
  },
  {
   "cell_type": "code",
   "execution_count": 57,
   "metadata": {},
   "outputs": [
    {
     "data": {
      "text/html": [
       "<div>\n",
       "<style scoped>\n",
       "    .dataframe tbody tr th:only-of-type {\n",
       "        vertical-align: middle;\n",
       "    }\n",
       "\n",
       "    .dataframe tbody tr th {\n",
       "        vertical-align: top;\n",
       "    }\n",
       "\n",
       "    .dataframe thead th {\n",
       "        text-align: right;\n",
       "    }\n",
       "</style>\n",
       "<table border=\"1\" class=\"dataframe\">\n",
       "  <thead>\n",
       "    <tr style=\"text-align: right;\">\n",
       "      <th></th>\n",
       "      <th>Id</th>\n",
       "      <th>MSSubClass</th>\n",
       "      <th>MSZoning</th>\n",
       "      <th>LotFrontage</th>\n",
       "      <th>LotArea</th>\n",
       "      <th>Street</th>\n",
       "      <th>Alley</th>\n",
       "      <th>LotShape</th>\n",
       "      <th>LandContour</th>\n",
       "      <th>Utilities</th>\n",
       "      <th>...</th>\n",
       "      <th>PoolArea</th>\n",
       "      <th>PoolQC</th>\n",
       "      <th>Fence</th>\n",
       "      <th>MiscFeature</th>\n",
       "      <th>MiscVal</th>\n",
       "      <th>MoSold</th>\n",
       "      <th>YrSold</th>\n",
       "      <th>SaleType</th>\n",
       "      <th>SaleCondition</th>\n",
       "      <th>SalePrice</th>\n",
       "    </tr>\n",
       "  </thead>\n",
       "  <tbody>\n",
       "    <tr>\n",
       "      <th>0</th>\n",
       "      <td>1</td>\n",
       "      <td>60</td>\n",
       "      <td>RL</td>\n",
       "      <td>65.0</td>\n",
       "      <td>8450</td>\n",
       "      <td>Pave</td>\n",
       "      <td>NaN</td>\n",
       "      <td>Reg</td>\n",
       "      <td>Lvl</td>\n",
       "      <td>AllPub</td>\n",
       "      <td>...</td>\n",
       "      <td>0</td>\n",
       "      <td>NaN</td>\n",
       "      <td>NaN</td>\n",
       "      <td>NaN</td>\n",
       "      <td>0</td>\n",
       "      <td>2</td>\n",
       "      <td>2008</td>\n",
       "      <td>WD</td>\n",
       "      <td>Normal</td>\n",
       "      <td>208500</td>\n",
       "    </tr>\n",
       "    <tr>\n",
       "      <th>1</th>\n",
       "      <td>2</td>\n",
       "      <td>20</td>\n",
       "      <td>RL</td>\n",
       "      <td>80.0</td>\n",
       "      <td>9600</td>\n",
       "      <td>Pave</td>\n",
       "      <td>NaN</td>\n",
       "      <td>Reg</td>\n",
       "      <td>Lvl</td>\n",
       "      <td>AllPub</td>\n",
       "      <td>...</td>\n",
       "      <td>0</td>\n",
       "      <td>NaN</td>\n",
       "      <td>NaN</td>\n",
       "      <td>NaN</td>\n",
       "      <td>0</td>\n",
       "      <td>5</td>\n",
       "      <td>2007</td>\n",
       "      <td>WD</td>\n",
       "      <td>Normal</td>\n",
       "      <td>181500</td>\n",
       "    </tr>\n",
       "    <tr>\n",
       "      <th>2</th>\n",
       "      <td>3</td>\n",
       "      <td>60</td>\n",
       "      <td>RL</td>\n",
       "      <td>68.0</td>\n",
       "      <td>11250</td>\n",
       "      <td>Pave</td>\n",
       "      <td>NaN</td>\n",
       "      <td>IR1</td>\n",
       "      <td>Lvl</td>\n",
       "      <td>AllPub</td>\n",
       "      <td>...</td>\n",
       "      <td>0</td>\n",
       "      <td>NaN</td>\n",
       "      <td>NaN</td>\n",
       "      <td>NaN</td>\n",
       "      <td>0</td>\n",
       "      <td>9</td>\n",
       "      <td>2008</td>\n",
       "      <td>WD</td>\n",
       "      <td>Normal</td>\n",
       "      <td>223500</td>\n",
       "    </tr>\n",
       "    <tr>\n",
       "      <th>3</th>\n",
       "      <td>4</td>\n",
       "      <td>70</td>\n",
       "      <td>RL</td>\n",
       "      <td>60.0</td>\n",
       "      <td>9550</td>\n",
       "      <td>Pave</td>\n",
       "      <td>NaN</td>\n",
       "      <td>IR1</td>\n",
       "      <td>Lvl</td>\n",
       "      <td>AllPub</td>\n",
       "      <td>...</td>\n",
       "      <td>0</td>\n",
       "      <td>NaN</td>\n",
       "      <td>NaN</td>\n",
       "      <td>NaN</td>\n",
       "      <td>0</td>\n",
       "      <td>2</td>\n",
       "      <td>2006</td>\n",
       "      <td>WD</td>\n",
       "      <td>Abnorml</td>\n",
       "      <td>140000</td>\n",
       "    </tr>\n",
       "    <tr>\n",
       "      <th>4</th>\n",
       "      <td>5</td>\n",
       "      <td>60</td>\n",
       "      <td>RL</td>\n",
       "      <td>84.0</td>\n",
       "      <td>14260</td>\n",
       "      <td>Pave</td>\n",
       "      <td>NaN</td>\n",
       "      <td>IR1</td>\n",
       "      <td>Lvl</td>\n",
       "      <td>AllPub</td>\n",
       "      <td>...</td>\n",
       "      <td>0</td>\n",
       "      <td>NaN</td>\n",
       "      <td>NaN</td>\n",
       "      <td>NaN</td>\n",
       "      <td>0</td>\n",
       "      <td>12</td>\n",
       "      <td>2008</td>\n",
       "      <td>WD</td>\n",
       "      <td>Normal</td>\n",
       "      <td>250000</td>\n",
       "    </tr>\n",
       "  </tbody>\n",
       "</table>\n",
       "<p>5 rows × 81 columns</p>\n",
       "</div>"
      ],
      "text/plain": [
       "   Id  MSSubClass MSZoning  LotFrontage  LotArea Street Alley LotShape  \\\n",
       "0   1          60       RL         65.0     8450   Pave   NaN      Reg   \n",
       "1   2          20       RL         80.0     9600   Pave   NaN      Reg   \n",
       "2   3          60       RL         68.0    11250   Pave   NaN      IR1   \n",
       "3   4          70       RL         60.0     9550   Pave   NaN      IR1   \n",
       "4   5          60       RL         84.0    14260   Pave   NaN      IR1   \n",
       "\n",
       "  LandContour Utilities  ... PoolArea PoolQC Fence MiscFeature MiscVal MoSold  \\\n",
       "0         Lvl    AllPub  ...        0    NaN   NaN         NaN       0      2   \n",
       "1         Lvl    AllPub  ...        0    NaN   NaN         NaN       0      5   \n",
       "2         Lvl    AllPub  ...        0    NaN   NaN         NaN       0      9   \n",
       "3         Lvl    AllPub  ...        0    NaN   NaN         NaN       0      2   \n",
       "4         Lvl    AllPub  ...        0    NaN   NaN         NaN       0     12   \n",
       "\n",
       "  YrSold  SaleType  SaleCondition  SalePrice  \n",
       "0   2008        WD         Normal     208500  \n",
       "1   2007        WD         Normal     181500  \n",
       "2   2008        WD         Normal     223500  \n",
       "3   2006        WD        Abnorml     140000  \n",
       "4   2008        WD         Normal     250000  \n",
       "\n",
       "[5 rows x 81 columns]"
      ]
     },
     "execution_count": 57,
     "metadata": {},
     "output_type": "execute_result"
    }
   ],
   "source": [
    "df = pd.read_csv('data.csv')\n",
    "df.head()"
   ]
  },
  {
   "cell_type": "markdown",
   "metadata": {},
   "source": [
    "2. Split de los datos"
   ]
  },
  {
   "cell_type": "code",
   "execution_count": 58,
   "metadata": {},
   "outputs": [],
   "source": [
    "train_data = df.sample(frac=0.8, random_state=42)\n",
    "test_data = df.drop(train_data.index)"
   ]
  },
  {
   "cell_type": "markdown",
   "metadata": {},
   "source": [
    "3. EDA y profiling de los datos"
   ]
  },
  {
   "cell_type": "code",
   "execution_count": 59,
   "metadata": {},
   "outputs": [
    {
     "data": {
      "text/html": [
       "<style type=\"text/css\">\n",
       "#T_bb4a2_row11_col1 {\n",
       "  background-color: lightgreen;\n",
       "}\n",
       "</style>\n",
       "<table id=\"T_bb4a2\">\n",
       "  <thead>\n",
       "    <tr>\n",
       "      <th class=\"blank level0\" >&nbsp;</th>\n",
       "      <th id=\"T_bb4a2_level0_col0\" class=\"col_heading level0 col0\" >Description</th>\n",
       "      <th id=\"T_bb4a2_level0_col1\" class=\"col_heading level0 col1\" >Value</th>\n",
       "    </tr>\n",
       "  </thead>\n",
       "  <tbody>\n",
       "    <tr>\n",
       "      <th id=\"T_bb4a2_level0_row0\" class=\"row_heading level0 row0\" >0</th>\n",
       "      <td id=\"T_bb4a2_row0_col0\" class=\"data row0 col0\" >Session id</td>\n",
       "      <td id=\"T_bb4a2_row0_col1\" class=\"data row0 col1\" >42</td>\n",
       "    </tr>\n",
       "    <tr>\n",
       "      <th id=\"T_bb4a2_level0_row1\" class=\"row_heading level0 row1\" >1</th>\n",
       "      <td id=\"T_bb4a2_row1_col0\" class=\"data row1 col0\" >Target</td>\n",
       "      <td id=\"T_bb4a2_row1_col1\" class=\"data row1 col1\" >SalePrice</td>\n",
       "    </tr>\n",
       "    <tr>\n",
       "      <th id=\"T_bb4a2_level0_row2\" class=\"row_heading level0 row2\" >2</th>\n",
       "      <td id=\"T_bb4a2_row2_col0\" class=\"data row2 col0\" >Target type</td>\n",
       "      <td id=\"T_bb4a2_row2_col1\" class=\"data row2 col1\" >Regression</td>\n",
       "    </tr>\n",
       "    <tr>\n",
       "      <th id=\"T_bb4a2_level0_row3\" class=\"row_heading level0 row3\" >3</th>\n",
       "      <td id=\"T_bb4a2_row3_col0\" class=\"data row3 col0\" >Original data shape</td>\n",
       "      <td id=\"T_bb4a2_row3_col1\" class=\"data row3 col1\" >(1168, 81)</td>\n",
       "    </tr>\n",
       "    <tr>\n",
       "      <th id=\"T_bb4a2_level0_row4\" class=\"row_heading level0 row4\" >4</th>\n",
       "      <td id=\"T_bb4a2_row4_col0\" class=\"data row4 col0\" >Transformed data shape</td>\n",
       "      <td id=\"T_bb4a2_row4_col1\" class=\"data row4 col1\" >(1168, 275)</td>\n",
       "    </tr>\n",
       "    <tr>\n",
       "      <th id=\"T_bb4a2_level0_row5\" class=\"row_heading level0 row5\" >5</th>\n",
       "      <td id=\"T_bb4a2_row5_col0\" class=\"data row5 col0\" >Transformed train set shape</td>\n",
       "      <td id=\"T_bb4a2_row5_col1\" class=\"data row5 col1\" >(817, 275)</td>\n",
       "    </tr>\n",
       "    <tr>\n",
       "      <th id=\"T_bb4a2_level0_row6\" class=\"row_heading level0 row6\" >6</th>\n",
       "      <td id=\"T_bb4a2_row6_col0\" class=\"data row6 col0\" >Transformed test set shape</td>\n",
       "      <td id=\"T_bb4a2_row6_col1\" class=\"data row6 col1\" >(351, 275)</td>\n",
       "    </tr>\n",
       "    <tr>\n",
       "      <th id=\"T_bb4a2_level0_row7\" class=\"row_heading level0 row7\" >7</th>\n",
       "      <td id=\"T_bb4a2_row7_col0\" class=\"data row7 col0\" >Ordinal features</td>\n",
       "      <td id=\"T_bb4a2_row7_col1\" class=\"data row7 col1\" >5</td>\n",
       "    </tr>\n",
       "    <tr>\n",
       "      <th id=\"T_bb4a2_level0_row8\" class=\"row_heading level0 row8\" >8</th>\n",
       "      <td id=\"T_bb4a2_row8_col0\" class=\"data row8 col0\" >Numeric features</td>\n",
       "      <td id=\"T_bb4a2_row8_col1\" class=\"data row8 col1\" >37</td>\n",
       "    </tr>\n",
       "    <tr>\n",
       "      <th id=\"T_bb4a2_level0_row9\" class=\"row_heading level0 row9\" >9</th>\n",
       "      <td id=\"T_bb4a2_row9_col0\" class=\"data row9 col0\" >Categorical features</td>\n",
       "      <td id=\"T_bb4a2_row9_col1\" class=\"data row9 col1\" >43</td>\n",
       "    </tr>\n",
       "    <tr>\n",
       "      <th id=\"T_bb4a2_level0_row10\" class=\"row_heading level0 row10\" >10</th>\n",
       "      <td id=\"T_bb4a2_row10_col0\" class=\"data row10 col0\" >Rows with missing values</td>\n",
       "      <td id=\"T_bb4a2_row10_col1\" class=\"data row10 col1\" >100.0%</td>\n",
       "    </tr>\n",
       "    <tr>\n",
       "      <th id=\"T_bb4a2_level0_row11\" class=\"row_heading level0 row11\" >11</th>\n",
       "      <td id=\"T_bb4a2_row11_col0\" class=\"data row11 col0\" >Preprocess</td>\n",
       "      <td id=\"T_bb4a2_row11_col1\" class=\"data row11 col1\" >True</td>\n",
       "    </tr>\n",
       "    <tr>\n",
       "      <th id=\"T_bb4a2_level0_row12\" class=\"row_heading level0 row12\" >12</th>\n",
       "      <td id=\"T_bb4a2_row12_col0\" class=\"data row12 col0\" >Imputation type</td>\n",
       "      <td id=\"T_bb4a2_row12_col1\" class=\"data row12 col1\" >simple</td>\n",
       "    </tr>\n",
       "    <tr>\n",
       "      <th id=\"T_bb4a2_level0_row13\" class=\"row_heading level0 row13\" >13</th>\n",
       "      <td id=\"T_bb4a2_row13_col0\" class=\"data row13 col0\" >Numeric imputation</td>\n",
       "      <td id=\"T_bb4a2_row13_col1\" class=\"data row13 col1\" >mean</td>\n",
       "    </tr>\n",
       "    <tr>\n",
       "      <th id=\"T_bb4a2_level0_row14\" class=\"row_heading level0 row14\" >14</th>\n",
       "      <td id=\"T_bb4a2_row14_col0\" class=\"data row14 col0\" >Categorical imputation</td>\n",
       "      <td id=\"T_bb4a2_row14_col1\" class=\"data row14 col1\" >mode</td>\n",
       "    </tr>\n",
       "    <tr>\n",
       "      <th id=\"T_bb4a2_level0_row15\" class=\"row_heading level0 row15\" >15</th>\n",
       "      <td id=\"T_bb4a2_row15_col0\" class=\"data row15 col0\" >Maximum one-hot encoding</td>\n",
       "      <td id=\"T_bb4a2_row15_col1\" class=\"data row15 col1\" >25</td>\n",
       "    </tr>\n",
       "    <tr>\n",
       "      <th id=\"T_bb4a2_level0_row16\" class=\"row_heading level0 row16\" >16</th>\n",
       "      <td id=\"T_bb4a2_row16_col0\" class=\"data row16 col0\" >Encoding method</td>\n",
       "      <td id=\"T_bb4a2_row16_col1\" class=\"data row16 col1\" >None</td>\n",
       "    </tr>\n",
       "    <tr>\n",
       "      <th id=\"T_bb4a2_level0_row17\" class=\"row_heading level0 row17\" >17</th>\n",
       "      <td id=\"T_bb4a2_row17_col0\" class=\"data row17 col0\" >Fold Generator</td>\n",
       "      <td id=\"T_bb4a2_row17_col1\" class=\"data row17 col1\" >StratifiedKFold</td>\n",
       "    </tr>\n",
       "    <tr>\n",
       "      <th id=\"T_bb4a2_level0_row18\" class=\"row_heading level0 row18\" >18</th>\n",
       "      <td id=\"T_bb4a2_row18_col0\" class=\"data row18 col0\" >Fold Number</td>\n",
       "      <td id=\"T_bb4a2_row18_col1\" class=\"data row18 col1\" >10</td>\n",
       "    </tr>\n",
       "    <tr>\n",
       "      <th id=\"T_bb4a2_level0_row19\" class=\"row_heading level0 row19\" >19</th>\n",
       "      <td id=\"T_bb4a2_row19_col0\" class=\"data row19 col0\" >CPU Jobs</td>\n",
       "      <td id=\"T_bb4a2_row19_col1\" class=\"data row19 col1\" >-1</td>\n",
       "    </tr>\n",
       "    <tr>\n",
       "      <th id=\"T_bb4a2_level0_row20\" class=\"row_heading level0 row20\" >20</th>\n",
       "      <td id=\"T_bb4a2_row20_col0\" class=\"data row20 col0\" >Use GPU</td>\n",
       "      <td id=\"T_bb4a2_row20_col1\" class=\"data row20 col1\" >False</td>\n",
       "    </tr>\n",
       "    <tr>\n",
       "      <th id=\"T_bb4a2_level0_row21\" class=\"row_heading level0 row21\" >21</th>\n",
       "      <td id=\"T_bb4a2_row21_col0\" class=\"data row21 col0\" >Log Experiment</td>\n",
       "      <td id=\"T_bb4a2_row21_col1\" class=\"data row21 col1\" >False</td>\n",
       "    </tr>\n",
       "    <tr>\n",
       "      <th id=\"T_bb4a2_level0_row22\" class=\"row_heading level0 row22\" >22</th>\n",
       "      <td id=\"T_bb4a2_row22_col0\" class=\"data row22 col0\" >Experiment Name</td>\n",
       "      <td id=\"T_bb4a2_row22_col1\" class=\"data row22 col1\" >reg-default-name</td>\n",
       "    </tr>\n",
       "    <tr>\n",
       "      <th id=\"T_bb4a2_level0_row23\" class=\"row_heading level0 row23\" >23</th>\n",
       "      <td id=\"T_bb4a2_row23_col0\" class=\"data row23 col0\" >USI</td>\n",
       "      <td id=\"T_bb4a2_row23_col1\" class=\"data row23 col1\" >0c43</td>\n",
       "    </tr>\n",
       "  </tbody>\n",
       "</table>\n"
      ],
      "text/plain": [
       "<pandas.io.formats.style.Styler at 0x25a85432190>"
      ]
     },
     "metadata": {},
     "output_type": "display_data"
    },
    {
     "name": "stdout",
     "output_type": "stream",
     "text": [
      "Loading profile... Please Wait!\n",
      "Profiler Failed. No output to show, continue with modeling.\n"
     ]
    }
   ],
   "source": [
    "exp1 = setup(data=train_data, target='SalePrice', session_id=42, profile=True, fold_strategy='stratifiedkfold')\n"
   ]
  },
  {
   "cell_type": "markdown",
   "metadata": {},
   "source": [
    "4. Descripción de warnings"
   ]
  },
  {
   "cell_type": "code",
   "execution_count": 60,
   "metadata": {},
   "outputs": [],
   "source": [
    "warnings.filterwarnings(\"ignore\")"
   ]
  },
  {
   "cell_type": "markdown",
   "metadata": {},
   "source": [
    "5. Setup"
   ]
  },
  {
   "cell_type": "code",
   "execution_count": 61,
   "metadata": {},
   "outputs": [
    {
     "data": {
      "text/html": [
       "<style type=\"text/css\">\n",
       "#T_dbddc_row11_col1, #T_dbddc_row17_col1, #T_dbddc_row19_col1, #T_dbddc_row21_col1, #T_dbddc_row23_col1 {\n",
       "  background-color: lightgreen;\n",
       "}\n",
       "</style>\n",
       "<table id=\"T_dbddc\">\n",
       "  <thead>\n",
       "    <tr>\n",
       "      <th class=\"blank level0\" >&nbsp;</th>\n",
       "      <th id=\"T_dbddc_level0_col0\" class=\"col_heading level0 col0\" >Description</th>\n",
       "      <th id=\"T_dbddc_level0_col1\" class=\"col_heading level0 col1\" >Value</th>\n",
       "    </tr>\n",
       "  </thead>\n",
       "  <tbody>\n",
       "    <tr>\n",
       "      <th id=\"T_dbddc_level0_row0\" class=\"row_heading level0 row0\" >0</th>\n",
       "      <td id=\"T_dbddc_row0_col0\" class=\"data row0 col0\" >Session id</td>\n",
       "      <td id=\"T_dbddc_row0_col1\" class=\"data row0 col1\" >4701</td>\n",
       "    </tr>\n",
       "    <tr>\n",
       "      <th id=\"T_dbddc_level0_row1\" class=\"row_heading level0 row1\" >1</th>\n",
       "      <td id=\"T_dbddc_row1_col0\" class=\"data row1 col0\" >Target</td>\n",
       "      <td id=\"T_dbddc_row1_col1\" class=\"data row1 col1\" >SalePrice</td>\n",
       "    </tr>\n",
       "    <tr>\n",
       "      <th id=\"T_dbddc_level0_row2\" class=\"row_heading level0 row2\" >2</th>\n",
       "      <td id=\"T_dbddc_row2_col0\" class=\"data row2 col0\" >Target type</td>\n",
       "      <td id=\"T_dbddc_row2_col1\" class=\"data row2 col1\" >Regression</td>\n",
       "    </tr>\n",
       "    <tr>\n",
       "      <th id=\"T_dbddc_level0_row3\" class=\"row_heading level0 row3\" >3</th>\n",
       "      <td id=\"T_dbddc_row3_col0\" class=\"data row3 col0\" >Original data shape</td>\n",
       "      <td id=\"T_dbddc_row3_col1\" class=\"data row3 col1\" >(1460, 81)</td>\n",
       "    </tr>\n",
       "    <tr>\n",
       "      <th id=\"T_dbddc_level0_row4\" class=\"row_heading level0 row4\" >4</th>\n",
       "      <td id=\"T_dbddc_row4_col0\" class=\"data row4 col0\" >Transformed data shape</td>\n",
       "      <td id=\"T_dbddc_row4_col1\" class=\"data row4 col1\" >(1409, 282)</td>\n",
       "    </tr>\n",
       "    <tr>\n",
       "      <th id=\"T_dbddc_level0_row5\" class=\"row_heading level0 row5\" >5</th>\n",
       "      <td id=\"T_dbddc_row5_col0\" class=\"data row5 col0\" >Transformed train set shape</td>\n",
       "      <td id=\"T_dbddc_row5_col1\" class=\"data row5 col1\" >(970, 282)</td>\n",
       "    </tr>\n",
       "    <tr>\n",
       "      <th id=\"T_dbddc_level0_row6\" class=\"row_heading level0 row6\" >6</th>\n",
       "      <td id=\"T_dbddc_row6_col0\" class=\"data row6 col0\" >Transformed test set shape</td>\n",
       "      <td id=\"T_dbddc_row6_col1\" class=\"data row6 col1\" >(439, 282)</td>\n",
       "    </tr>\n",
       "    <tr>\n",
       "      <th id=\"T_dbddc_level0_row7\" class=\"row_heading level0 row7\" >7</th>\n",
       "      <td id=\"T_dbddc_row7_col0\" class=\"data row7 col0\" >Ordinal features</td>\n",
       "      <td id=\"T_dbddc_row7_col1\" class=\"data row7 col1\" >4</td>\n",
       "    </tr>\n",
       "    <tr>\n",
       "      <th id=\"T_dbddc_level0_row8\" class=\"row_heading level0 row8\" >8</th>\n",
       "      <td id=\"T_dbddc_row8_col0\" class=\"data row8 col0\" >Numeric features</td>\n",
       "      <td id=\"T_dbddc_row8_col1\" class=\"data row8 col1\" >37</td>\n",
       "    </tr>\n",
       "    <tr>\n",
       "      <th id=\"T_dbddc_level0_row9\" class=\"row_heading level0 row9\" >9</th>\n",
       "      <td id=\"T_dbddc_row9_col0\" class=\"data row9 col0\" >Categorical features</td>\n",
       "      <td id=\"T_dbddc_row9_col1\" class=\"data row9 col1\" >43</td>\n",
       "    </tr>\n",
       "    <tr>\n",
       "      <th id=\"T_dbddc_level0_row10\" class=\"row_heading level0 row10\" >10</th>\n",
       "      <td id=\"T_dbddc_row10_col0\" class=\"data row10 col0\" >Rows with missing values</td>\n",
       "      <td id=\"T_dbddc_row10_col1\" class=\"data row10 col1\" >100.0%</td>\n",
       "    </tr>\n",
       "    <tr>\n",
       "      <th id=\"T_dbddc_level0_row11\" class=\"row_heading level0 row11\" >11</th>\n",
       "      <td id=\"T_dbddc_row11_col0\" class=\"data row11 col0\" >Preprocess</td>\n",
       "      <td id=\"T_dbddc_row11_col1\" class=\"data row11 col1\" >True</td>\n",
       "    </tr>\n",
       "    <tr>\n",
       "      <th id=\"T_dbddc_level0_row12\" class=\"row_heading level0 row12\" >12</th>\n",
       "      <td id=\"T_dbddc_row12_col0\" class=\"data row12 col0\" >Imputation type</td>\n",
       "      <td id=\"T_dbddc_row12_col1\" class=\"data row12 col1\" >simple</td>\n",
       "    </tr>\n",
       "    <tr>\n",
       "      <th id=\"T_dbddc_level0_row13\" class=\"row_heading level0 row13\" >13</th>\n",
       "      <td id=\"T_dbddc_row13_col0\" class=\"data row13 col0\" >Numeric imputation</td>\n",
       "      <td id=\"T_dbddc_row13_col1\" class=\"data row13 col1\" >mean</td>\n",
       "    </tr>\n",
       "    <tr>\n",
       "      <th id=\"T_dbddc_level0_row14\" class=\"row_heading level0 row14\" >14</th>\n",
       "      <td id=\"T_dbddc_row14_col0\" class=\"data row14 col0\" >Categorical imputation</td>\n",
       "      <td id=\"T_dbddc_row14_col1\" class=\"data row14 col1\" >knn</td>\n",
       "    </tr>\n",
       "    <tr>\n",
       "      <th id=\"T_dbddc_level0_row15\" class=\"row_heading level0 row15\" >15</th>\n",
       "      <td id=\"T_dbddc_row15_col0\" class=\"data row15 col0\" >Maximum one-hot encoding</td>\n",
       "      <td id=\"T_dbddc_row15_col1\" class=\"data row15 col1\" >25</td>\n",
       "    </tr>\n",
       "    <tr>\n",
       "      <th id=\"T_dbddc_level0_row16\" class=\"row_heading level0 row16\" >16</th>\n",
       "      <td id=\"T_dbddc_row16_col0\" class=\"data row16 col0\" >Encoding method</td>\n",
       "      <td id=\"T_dbddc_row16_col1\" class=\"data row16 col1\" >None</td>\n",
       "    </tr>\n",
       "    <tr>\n",
       "      <th id=\"T_dbddc_level0_row17\" class=\"row_heading level0 row17\" >17</th>\n",
       "      <td id=\"T_dbddc_row17_col0\" class=\"data row17 col0\" >Remove multicollinearity</td>\n",
       "      <td id=\"T_dbddc_row17_col1\" class=\"data row17 col1\" >True</td>\n",
       "    </tr>\n",
       "    <tr>\n",
       "      <th id=\"T_dbddc_level0_row18\" class=\"row_heading level0 row18\" >18</th>\n",
       "      <td id=\"T_dbddc_row18_col0\" class=\"data row18 col0\" >Multicollinearity threshold</td>\n",
       "      <td id=\"T_dbddc_row18_col1\" class=\"data row18 col1\" >0.900000</td>\n",
       "    </tr>\n",
       "    <tr>\n",
       "      <th id=\"T_dbddc_level0_row19\" class=\"row_heading level0 row19\" >19</th>\n",
       "      <td id=\"T_dbddc_row19_col0\" class=\"data row19 col0\" >Remove outliers</td>\n",
       "      <td id=\"T_dbddc_row19_col1\" class=\"data row19 col1\" >True</td>\n",
       "    </tr>\n",
       "    <tr>\n",
       "      <th id=\"T_dbddc_level0_row20\" class=\"row_heading level0 row20\" >20</th>\n",
       "      <td id=\"T_dbddc_row20_col0\" class=\"data row20 col0\" >Outliers threshold</td>\n",
       "      <td id=\"T_dbddc_row20_col1\" class=\"data row20 col1\" >0.050000</td>\n",
       "    </tr>\n",
       "    <tr>\n",
       "      <th id=\"T_dbddc_level0_row21\" class=\"row_heading level0 row21\" >21</th>\n",
       "      <td id=\"T_dbddc_row21_col0\" class=\"data row21 col0\" >Transformation</td>\n",
       "      <td id=\"T_dbddc_row21_col1\" class=\"data row21 col1\" >True</td>\n",
       "    </tr>\n",
       "    <tr>\n",
       "      <th id=\"T_dbddc_level0_row22\" class=\"row_heading level0 row22\" >22</th>\n",
       "      <td id=\"T_dbddc_row22_col0\" class=\"data row22 col0\" >Transformation method</td>\n",
       "      <td id=\"T_dbddc_row22_col1\" class=\"data row22 col1\" >quantile</td>\n",
       "    </tr>\n",
       "    <tr>\n",
       "      <th id=\"T_dbddc_level0_row23\" class=\"row_heading level0 row23\" >23</th>\n",
       "      <td id=\"T_dbddc_row23_col0\" class=\"data row23 col0\" >Normalize</td>\n",
       "      <td id=\"T_dbddc_row23_col1\" class=\"data row23 col1\" >True</td>\n",
       "    </tr>\n",
       "    <tr>\n",
       "      <th id=\"T_dbddc_level0_row24\" class=\"row_heading level0 row24\" >24</th>\n",
       "      <td id=\"T_dbddc_row24_col0\" class=\"data row24 col0\" >Normalize method</td>\n",
       "      <td id=\"T_dbddc_row24_col1\" class=\"data row24 col1\" >zscore</td>\n",
       "    </tr>\n",
       "    <tr>\n",
       "      <th id=\"T_dbddc_level0_row25\" class=\"row_heading level0 row25\" >25</th>\n",
       "      <td id=\"T_dbddc_row25_col0\" class=\"data row25 col0\" >Fold Generator</td>\n",
       "      <td id=\"T_dbddc_row25_col1\" class=\"data row25 col1\" >KFold</td>\n",
       "    </tr>\n",
       "    <tr>\n",
       "      <th id=\"T_dbddc_level0_row26\" class=\"row_heading level0 row26\" >26</th>\n",
       "      <td id=\"T_dbddc_row26_col0\" class=\"data row26 col0\" >Fold Number</td>\n",
       "      <td id=\"T_dbddc_row26_col1\" class=\"data row26 col1\" >10</td>\n",
       "    </tr>\n",
       "    <tr>\n",
       "      <th id=\"T_dbddc_level0_row27\" class=\"row_heading level0 row27\" >27</th>\n",
       "      <td id=\"T_dbddc_row27_col0\" class=\"data row27 col0\" >CPU Jobs</td>\n",
       "      <td id=\"T_dbddc_row27_col1\" class=\"data row27 col1\" >-1</td>\n",
       "    </tr>\n",
       "    <tr>\n",
       "      <th id=\"T_dbddc_level0_row28\" class=\"row_heading level0 row28\" >28</th>\n",
       "      <td id=\"T_dbddc_row28_col0\" class=\"data row28 col0\" >Use GPU</td>\n",
       "      <td id=\"T_dbddc_row28_col1\" class=\"data row28 col1\" >False</td>\n",
       "    </tr>\n",
       "    <tr>\n",
       "      <th id=\"T_dbddc_level0_row29\" class=\"row_heading level0 row29\" >29</th>\n",
       "      <td id=\"T_dbddc_row29_col0\" class=\"data row29 col0\" >Log Experiment</td>\n",
       "      <td id=\"T_dbddc_row29_col1\" class=\"data row29 col1\" >False</td>\n",
       "    </tr>\n",
       "    <tr>\n",
       "      <th id=\"T_dbddc_level0_row30\" class=\"row_heading level0 row30\" >30</th>\n",
       "      <td id=\"T_dbddc_row30_col0\" class=\"data row30 col0\" >Experiment Name</td>\n",
       "      <td id=\"T_dbddc_row30_col1\" class=\"data row30 col1\" >reg-default-name</td>\n",
       "    </tr>\n",
       "    <tr>\n",
       "      <th id=\"T_dbddc_level0_row31\" class=\"row_heading level0 row31\" >31</th>\n",
       "      <td id=\"T_dbddc_row31_col0\" class=\"data row31 col0\" >USI</td>\n",
       "      <td id=\"T_dbddc_row31_col1\" class=\"data row31 col1\" >da73</td>\n",
       "    </tr>\n",
       "  </tbody>\n",
       "</table>\n"
      ],
      "text/plain": [
       "<pandas.io.formats.style.Styler at 0x25a85ed9e50>"
      ]
     },
     "metadata": {},
     "output_type": "display_data"
    }
   ],
   "source": [
    "exp1 = setup(\n",
    "    data=df,\n",
    "    target='SalePrice',\n",
    "    numeric_imputation='mean',          # Imputación de variables numéricas, se utilizo media debido que es el valor promedio de la variable\n",
    "    categorical_imputation='knn',      # Imputación de variables categóricas se utilizo el metodo de knn, que considera los valores cercanos\n",
    "    transformation=True,                # Transformación de variables\n",
    "    transformation_method='quantile',   # Método de transformación quantile\n",
    "    remove_outliers=True,                # Tratamiento de outliers, remover los valores\n",
    "    outliers_threshold=0.05,            # referencia para eliminar outliers\n",
    "    normalize=True,                     # Normalización de características\n",
    "    remove_multicollinearity=True       # Eliminación de características no utilizadas en el modelo\n",
    ")"
   ]
  },
  {
   "cell_type": "markdown",
   "metadata": {},
   "source": [
    "6. Entrenamiento y selección de modelos automática"
   ]
  },
  {
   "cell_type": "code",
   "execution_count": 62,
   "metadata": {},
   "outputs": [
    {
     "data": {
      "text/html": [],
      "text/plain": [
       "<IPython.core.display.HTML object>"
      ]
     },
     "metadata": {},
     "output_type": "display_data"
    },
    {
     "data": {
      "text/html": [],
      "text/plain": [
       "<IPython.core.display.HTML object>"
      ]
     },
     "metadata": {},
     "output_type": "display_data"
    },
    {
     "data": {
      "application/vnd.jupyter.widget-view+json": {
       "model_id": "d2cac8526caf43769bd79572e0e73fe7",
       "version_major": 2,
       "version_minor": 0
      },
      "text/plain": [
       "Processing:   0%|          | 0/81 [00:00<?, ?it/s]"
      ]
     },
     "metadata": {},
     "output_type": "display_data"
    }
   ],
   "source": [
    "best_models = compare_models()"
   ]
  },
  {
   "cell_type": "code",
   "execution_count": 36,
   "metadata": {},
   "outputs": [
    {
     "data": {
      "text/html": [],
      "text/plain": [
       "<IPython.core.display.HTML object>"
      ]
     },
     "metadata": {},
     "output_type": "display_data"
    },
    {
     "data": {
      "text/html": [
       "<style type=\"text/css\">\n",
       "#T_05736 th {\n",
       "  text-align: left;\n",
       "}\n",
       "#T_05736_row0_col0, #T_05736_row0_col1, #T_05736_row1_col0, #T_05736_row1_col2, #T_05736_row1_col3, #T_05736_row1_col4, #T_05736_row1_col5, #T_05736_row1_col6, #T_05736_row2_col0, #T_05736_row2_col1, #T_05736_row2_col2, #T_05736_row2_col3, #T_05736_row2_col4, #T_05736_row2_col5, #T_05736_row2_col6, #T_05736_row3_col0, #T_05736_row3_col1, #T_05736_row3_col2, #T_05736_row3_col3, #T_05736_row3_col4, #T_05736_row3_col5, #T_05736_row3_col6, #T_05736_row4_col0, #T_05736_row4_col1, #T_05736_row4_col2, #T_05736_row4_col3, #T_05736_row4_col4, #T_05736_row4_col5, #T_05736_row4_col6, #T_05736_row5_col0, #T_05736_row5_col1, #T_05736_row5_col2, #T_05736_row5_col3, #T_05736_row5_col4, #T_05736_row5_col5, #T_05736_row5_col6, #T_05736_row6_col0, #T_05736_row6_col1, #T_05736_row6_col2, #T_05736_row6_col3, #T_05736_row6_col4, #T_05736_row6_col5, #T_05736_row6_col6, #T_05736_row7_col0, #T_05736_row7_col1, #T_05736_row7_col2, #T_05736_row7_col3, #T_05736_row7_col4, #T_05736_row7_col5, #T_05736_row7_col6, #T_05736_row8_col0, #T_05736_row8_col1, #T_05736_row8_col2, #T_05736_row8_col3, #T_05736_row8_col4, #T_05736_row8_col5, #T_05736_row8_col6, #T_05736_row9_col0, #T_05736_row9_col1, #T_05736_row9_col2, #T_05736_row9_col3, #T_05736_row9_col4, #T_05736_row9_col5, #T_05736_row9_col6, #T_05736_row10_col0, #T_05736_row10_col1, #T_05736_row10_col2, #T_05736_row10_col3, #T_05736_row10_col4, #T_05736_row10_col5, #T_05736_row10_col6, #T_05736_row11_col0, #T_05736_row11_col1, #T_05736_row11_col2, #T_05736_row11_col3, #T_05736_row11_col4, #T_05736_row11_col5, #T_05736_row11_col6, #T_05736_row12_col0, #T_05736_row12_col1, #T_05736_row12_col2, #T_05736_row12_col3, #T_05736_row12_col4, #T_05736_row12_col5, #T_05736_row12_col6, #T_05736_row13_col0, #T_05736_row13_col1, #T_05736_row13_col2, #T_05736_row13_col3, #T_05736_row13_col4, #T_05736_row13_col5, #T_05736_row13_col6, #T_05736_row14_col0, #T_05736_row14_col1, #T_05736_row14_col2, #T_05736_row14_col3, #T_05736_row14_col4, #T_05736_row14_col5, #T_05736_row14_col6, #T_05736_row15_col0, #T_05736_row15_col1, #T_05736_row15_col2, #T_05736_row15_col3, #T_05736_row15_col4, #T_05736_row15_col5, #T_05736_row15_col6, #T_05736_row16_col0, #T_05736_row16_col1, #T_05736_row16_col2, #T_05736_row16_col3, #T_05736_row16_col4, #T_05736_row16_col5, #T_05736_row16_col6, #T_05736_row17_col0, #T_05736_row17_col1, #T_05736_row17_col2, #T_05736_row17_col3, #T_05736_row17_col4, #T_05736_row17_col5, #T_05736_row17_col6, #T_05736_row18_col0, #T_05736_row18_col1, #T_05736_row18_col2, #T_05736_row18_col3, #T_05736_row18_col4, #T_05736_row18_col5, #T_05736_row18_col6 {\n",
       "  text-align: left;\n",
       "}\n",
       "#T_05736_row0_col2, #T_05736_row0_col3, #T_05736_row0_col4, #T_05736_row0_col5, #T_05736_row0_col6, #T_05736_row1_col1 {\n",
       "  text-align: left;\n",
       "  background-color: yellow;\n",
       "}\n",
       "#T_05736_row0_col7, #T_05736_row1_col7, #T_05736_row2_col7, #T_05736_row3_col7, #T_05736_row4_col7, #T_05736_row5_col7, #T_05736_row6_col7, #T_05736_row7_col7, #T_05736_row8_col7, #T_05736_row9_col7, #T_05736_row10_col7, #T_05736_row11_col7, #T_05736_row12_col7, #T_05736_row13_col7, #T_05736_row14_col7, #T_05736_row15_col7, #T_05736_row16_col7, #T_05736_row18_col7 {\n",
       "  text-align: left;\n",
       "  background-color: lightgrey;\n",
       "}\n",
       "#T_05736_row17_col7 {\n",
       "  text-align: left;\n",
       "  background-color: yellow;\n",
       "  background-color: lightgrey;\n",
       "}\n",
       "</style>\n",
       "<table id=\"T_05736\">\n",
       "  <thead>\n",
       "    <tr>\n",
       "      <th class=\"blank level0\" >&nbsp;</th>\n",
       "      <th id=\"T_05736_level0_col0\" class=\"col_heading level0 col0\" >Model</th>\n",
       "      <th id=\"T_05736_level0_col1\" class=\"col_heading level0 col1\" >MAE</th>\n",
       "      <th id=\"T_05736_level0_col2\" class=\"col_heading level0 col2\" >MSE</th>\n",
       "      <th id=\"T_05736_level0_col3\" class=\"col_heading level0 col3\" >RMSE</th>\n",
       "      <th id=\"T_05736_level0_col4\" class=\"col_heading level0 col4\" >R2</th>\n",
       "      <th id=\"T_05736_level0_col5\" class=\"col_heading level0 col5\" >RMSLE</th>\n",
       "      <th id=\"T_05736_level0_col6\" class=\"col_heading level0 col6\" >MAPE</th>\n",
       "      <th id=\"T_05736_level0_col7\" class=\"col_heading level0 col7\" >TT (Sec)</th>\n",
       "    </tr>\n",
       "  </thead>\n",
       "  <tbody>\n",
       "    <tr>\n",
       "      <th id=\"T_05736_level0_row0\" class=\"row_heading level0 row0\" >lightgbm</th>\n",
       "      <td id=\"T_05736_row0_col0\" class=\"data row0 col0\" >Light Gradient Boosting Machine</td>\n",
       "      <td id=\"T_05736_row0_col1\" class=\"data row0 col1\" >17466.5403</td>\n",
       "      <td id=\"T_05736_row0_col2\" class=\"data row0 col2\" >884033220.3156</td>\n",
       "      <td id=\"T_05736_row0_col3\" class=\"data row0 col3\" >28688.8782</td>\n",
       "      <td id=\"T_05736_row0_col4\" class=\"data row0 col4\" >0.8509</td>\n",
       "      <td id=\"T_05736_row0_col5\" class=\"data row0 col5\" >0.1441</td>\n",
       "      <td id=\"T_05736_row0_col6\" class=\"data row0 col6\" >0.1017</td>\n",
       "      <td id=\"T_05736_row0_col7\" class=\"data row0 col7\" >0.8350</td>\n",
       "    </tr>\n",
       "    <tr>\n",
       "      <th id=\"T_05736_level0_row1\" class=\"row_heading level0 row1\" >gbr</th>\n",
       "      <td id=\"T_05736_row1_col0\" class=\"data row1 col0\" >Gradient Boosting Regressor</td>\n",
       "      <td id=\"T_05736_row1_col1\" class=\"data row1 col1\" >17325.3930</td>\n",
       "      <td id=\"T_05736_row1_col2\" class=\"data row1 col2\" >930758838.7174</td>\n",
       "      <td id=\"T_05736_row1_col3\" class=\"data row1 col3\" >29016.3529</td>\n",
       "      <td id=\"T_05736_row1_col4\" class=\"data row1 col4\" >0.8382</td>\n",
       "      <td id=\"T_05736_row1_col5\" class=\"data row1 col5\" >0.1450</td>\n",
       "      <td id=\"T_05736_row1_col6\" class=\"data row1 col6\" >0.1021</td>\n",
       "      <td id=\"T_05736_row1_col7\" class=\"data row1 col7\" >1.0870</td>\n",
       "    </tr>\n",
       "    <tr>\n",
       "      <th id=\"T_05736_level0_row2\" class=\"row_heading level0 row2\" >en</th>\n",
       "      <td id=\"T_05736_row2_col0\" class=\"data row2 col0\" >Elastic Net</td>\n",
       "      <td id=\"T_05736_row2_col1\" class=\"data row2 col1\" >18519.7410</td>\n",
       "      <td id=\"T_05736_row2_col2\" class=\"data row2 col2\" >1006382209.1931</td>\n",
       "      <td id=\"T_05736_row2_col3\" class=\"data row2 col3\" >30627.4822</td>\n",
       "      <td id=\"T_05736_row2_col4\" class=\"data row2 col4\" >0.8297</td>\n",
       "      <td id=\"T_05736_row2_col5\" class=\"data row2 col5\" >0.1786</td>\n",
       "      <td id=\"T_05736_row2_col6\" class=\"data row2 col6\" >0.1098</td>\n",
       "      <td id=\"T_05736_row2_col7\" class=\"data row2 col7\" >0.8470</td>\n",
       "    </tr>\n",
       "    <tr>\n",
       "      <th id=\"T_05736_level0_row3\" class=\"row_heading level0 row3\" >par</th>\n",
       "      <td id=\"T_05736_row3_col0\" class=\"data row3 col0\" >Passive Aggressive Regressor</td>\n",
       "      <td id=\"T_05736_row3_col1\" class=\"data row3 col1\" >18967.1129</td>\n",
       "      <td id=\"T_05736_row3_col2\" class=\"data row3 col2\" >1016987694.7361</td>\n",
       "      <td id=\"T_05736_row3_col3\" class=\"data row3 col3\" >31249.3071</td>\n",
       "      <td id=\"T_05736_row3_col4\" class=\"data row3 col4\" >0.8250</td>\n",
       "      <td id=\"T_05736_row3_col5\" class=\"data row3 col5\" >0.1944</td>\n",
       "      <td id=\"T_05736_row3_col6\" class=\"data row3 col6\" >0.1133</td>\n",
       "      <td id=\"T_05736_row3_col7\" class=\"data row3 col7\" >0.9080</td>\n",
       "    </tr>\n",
       "    <tr>\n",
       "      <th id=\"T_05736_level0_row4\" class=\"row_heading level0 row4\" >xgboost</th>\n",
       "      <td id=\"T_05736_row4_col0\" class=\"data row4 col0\" >Extreme Gradient Boosting</td>\n",
       "      <td id=\"T_05736_row4_col1\" class=\"data row4 col1\" >19380.2145</td>\n",
       "      <td id=\"T_05736_row4_col2\" class=\"data row4 col2\" >1025717617.8762</td>\n",
       "      <td id=\"T_05736_row4_col3\" class=\"data row4 col3\" >31137.1620</td>\n",
       "      <td id=\"T_05736_row4_col4\" class=\"data row4 col4\" >0.8242</td>\n",
       "      <td id=\"T_05736_row4_col5\" class=\"data row4 col5\" >0.1632</td>\n",
       "      <td id=\"T_05736_row4_col6\" class=\"data row4 col6\" >0.1141</td>\n",
       "      <td id=\"T_05736_row4_col7\" class=\"data row4 col7\" >1.2150</td>\n",
       "    </tr>\n",
       "    <tr>\n",
       "      <th id=\"T_05736_level0_row5\" class=\"row_heading level0 row5\" >huber</th>\n",
       "      <td id=\"T_05736_row5_col0\" class=\"data row5 col0\" >Huber Regressor</td>\n",
       "      <td id=\"T_05736_row5_col1\" class=\"data row5 col1\" >18929.8741</td>\n",
       "      <td id=\"T_05736_row5_col2\" class=\"data row5 col2\" >1015347019.7641</td>\n",
       "      <td id=\"T_05736_row5_col3\" class=\"data row5 col3\" >31024.1344</td>\n",
       "      <td id=\"T_05736_row5_col4\" class=\"data row5 col4\" >0.8226</td>\n",
       "      <td id=\"T_05736_row5_col5\" class=\"data row5 col5\" >0.1893</td>\n",
       "      <td id=\"T_05736_row5_col6\" class=\"data row5 col6\" >0.1176</td>\n",
       "      <td id=\"T_05736_row5_col7\" class=\"data row5 col7\" >0.8940</td>\n",
       "    </tr>\n",
       "    <tr>\n",
       "      <th id=\"T_05736_level0_row6\" class=\"row_heading level0 row6\" >et</th>\n",
       "      <td id=\"T_05736_row6_col0\" class=\"data row6 col0\" >Extra Trees Regressor</td>\n",
       "      <td id=\"T_05736_row6_col1\" class=\"data row6 col1\" >19530.2755</td>\n",
       "      <td id=\"T_05736_row6_col2\" class=\"data row6 col2\" >1075687586.0071</td>\n",
       "      <td id=\"T_05736_row6_col3\" class=\"data row6 col3\" >32338.3151</td>\n",
       "      <td id=\"T_05736_row6_col4\" class=\"data row6 col4\" >0.8225</td>\n",
       "      <td id=\"T_05736_row6_col5\" class=\"data row6 col5\" >0.1637</td>\n",
       "      <td id=\"T_05736_row6_col6\" class=\"data row6 col6\" >0.1158</td>\n",
       "      <td id=\"T_05736_row6_col7\" class=\"data row6 col7\" >1.4960</td>\n",
       "    </tr>\n",
       "    <tr>\n",
       "      <th id=\"T_05736_level0_row7\" class=\"row_heading level0 row7\" >rf</th>\n",
       "      <td id=\"T_05736_row7_col0\" class=\"data row7 col0\" >Random Forest Regressor</td>\n",
       "      <td id=\"T_05736_row7_col1\" class=\"data row7 col1\" >19071.4412</td>\n",
       "      <td id=\"T_05736_row7_col2\" class=\"data row7 col2\" >1048100208.1935</td>\n",
       "      <td id=\"T_05736_row7_col3\" class=\"data row7 col3\" >31396.8235</td>\n",
       "      <td id=\"T_05736_row7_col4\" class=\"data row7 col4\" >0.8222</td>\n",
       "      <td id=\"T_05736_row7_col5\" class=\"data row7 col5\" >0.1565</td>\n",
       "      <td id=\"T_05736_row7_col6\" class=\"data row7 col6\" >0.1122</td>\n",
       "      <td id=\"T_05736_row7_col7\" class=\"data row7 col7\" >1.7040</td>\n",
       "    </tr>\n",
       "    <tr>\n",
       "      <th id=\"T_05736_level0_row8\" class=\"row_heading level0 row8\" >llar</th>\n",
       "      <td id=\"T_05736_row8_col0\" class=\"data row8 col0\" >Lasso Least Angle Regression</td>\n",
       "      <td id=\"T_05736_row8_col1\" class=\"data row8 col1\" >19011.4465</td>\n",
       "      <td id=\"T_05736_row8_col2\" class=\"data row8 col2\" >1056021880.4363</td>\n",
       "      <td id=\"T_05736_row8_col3\" class=\"data row8 col3\" >30868.0510</td>\n",
       "      <td id=\"T_05736_row8_col4\" class=\"data row8 col4\" >0.8149</td>\n",
       "      <td id=\"T_05736_row8_col5\" class=\"data row8 col5\" >0.1813</td>\n",
       "      <td id=\"T_05736_row8_col6\" class=\"data row8 col6\" >0.1206</td>\n",
       "      <td id=\"T_05736_row8_col7\" class=\"data row8 col7\" >0.7990</td>\n",
       "    </tr>\n",
       "    <tr>\n",
       "      <th id=\"T_05736_level0_row9\" class=\"row_heading level0 row9\" >br</th>\n",
       "      <td id=\"T_05736_row9_col0\" class=\"data row9 col0\" >Bayesian Ridge</td>\n",
       "      <td id=\"T_05736_row9_col1\" class=\"data row9 col1\" >19213.1089</td>\n",
       "      <td id=\"T_05736_row9_col2\" class=\"data row9 col2\" >1056348956.8462</td>\n",
       "      <td id=\"T_05736_row9_col3\" class=\"data row9 col3\" >31036.3064</td>\n",
       "      <td id=\"T_05736_row9_col4\" class=\"data row9 col4\" >0.8148</td>\n",
       "      <td id=\"T_05736_row9_col5\" class=\"data row9 col5\" >0.2237</td>\n",
       "      <td id=\"T_05736_row9_col6\" class=\"data row9 col6\" >0.1194</td>\n",
       "      <td id=\"T_05736_row9_col7\" class=\"data row9 col7\" >0.8460</td>\n",
       "    </tr>\n",
       "    <tr>\n",
       "      <th id=\"T_05736_level0_row10\" class=\"row_heading level0 row10\" >omp</th>\n",
       "      <td id=\"T_05736_row10_col0\" class=\"data row10 col0\" >Orthogonal Matching Pursuit</td>\n",
       "      <td id=\"T_05736_row10_col1\" class=\"data row10 col1\" >20703.5894</td>\n",
       "      <td id=\"T_05736_row10_col2\" class=\"data row10 col2\" >1146352040.9925</td>\n",
       "      <td id=\"T_05736_row10_col3\" class=\"data row10 col3\" >32476.9814</td>\n",
       "      <td id=\"T_05736_row10_col4\" class=\"data row10 col4\" >0.8033</td>\n",
       "      <td id=\"T_05736_row10_col5\" class=\"data row10 col5\" >0.1813</td>\n",
       "      <td id=\"T_05736_row10_col6\" class=\"data row10 col6\" >0.1286</td>\n",
       "      <td id=\"T_05736_row10_col7\" class=\"data row10 col7\" >0.9140</td>\n",
       "    </tr>\n",
       "    <tr>\n",
       "      <th id=\"T_05736_level0_row11\" class=\"row_heading level0 row11\" >ridge</th>\n",
       "      <td id=\"T_05736_row11_col0\" class=\"data row11 col0\" >Ridge Regression</td>\n",
       "      <td id=\"T_05736_row11_col1\" class=\"data row11 col1\" >20506.3605</td>\n",
       "      <td id=\"T_05736_row11_col2\" class=\"data row11 col2\" >1158457643.5376</td>\n",
       "      <td id=\"T_05736_row11_col3\" class=\"data row11 col3\" >32391.9453</td>\n",
       "      <td id=\"T_05736_row11_col4\" class=\"data row11 col4\" >0.7920</td>\n",
       "      <td id=\"T_05736_row11_col5\" class=\"data row11 col5\" >0.2247</td>\n",
       "      <td id=\"T_05736_row11_col6\" class=\"data row11 col6\" >0.1313</td>\n",
       "      <td id=\"T_05736_row11_col7\" class=\"data row11 col7\" >0.8400</td>\n",
       "    </tr>\n",
       "    <tr>\n",
       "      <th id=\"T_05736_level0_row12\" class=\"row_heading level0 row12\" >lasso</th>\n",
       "      <td id=\"T_05736_row12_col0\" class=\"data row12 col0\" >Lasso Regression</td>\n",
       "      <td id=\"T_05736_row12_col1\" class=\"data row12 col1\" >20633.7125</td>\n",
       "      <td id=\"T_05736_row12_col2\" class=\"data row12 col2\" >1165912767.7537</td>\n",
       "      <td id=\"T_05736_row12_col3\" class=\"data row12 col3\" >32531.6372</td>\n",
       "      <td id=\"T_05736_row12_col4\" class=\"data row12 col4\" >0.7910</td>\n",
       "      <td id=\"T_05736_row12_col5\" class=\"data row12 col5\" >0.2121</td>\n",
       "      <td id=\"T_05736_row12_col6\" class=\"data row12 col6\" >0.1322</td>\n",
       "      <td id=\"T_05736_row12_col7\" class=\"data row12 col7\" >0.7630</td>\n",
       "    </tr>\n",
       "    <tr>\n",
       "      <th id=\"T_05736_level0_row13\" class=\"row_heading level0 row13\" >ada</th>\n",
       "      <td id=\"T_05736_row13_col0\" class=\"data row13 col0\" >AdaBoost Regressor</td>\n",
       "      <td id=\"T_05736_row13_col1\" class=\"data row13 col1\" >23933.9327</td>\n",
       "      <td id=\"T_05736_row13_col2\" class=\"data row13 col2\" >1349218254.7396</td>\n",
       "      <td id=\"T_05736_row13_col3\" class=\"data row13 col3\" >35976.7301</td>\n",
       "      <td id=\"T_05736_row13_col4\" class=\"data row13 col4\" >0.7717</td>\n",
       "      <td id=\"T_05736_row13_col5\" class=\"data row13 col5\" >0.1974</td>\n",
       "      <td id=\"T_05736_row13_col6\" class=\"data row13 col6\" >0.1535</td>\n",
       "      <td id=\"T_05736_row13_col7\" class=\"data row13 col7\" >0.9410</td>\n",
       "    </tr>\n",
       "    <tr>\n",
       "      <th id=\"T_05736_level0_row14\" class=\"row_heading level0 row14\" >knn</th>\n",
       "      <td id=\"T_05736_row14_col0\" class=\"data row14 col0\" >K Neighbors Regressor</td>\n",
       "      <td id=\"T_05736_row14_col1\" class=\"data row14 col1\" >27033.5653</td>\n",
       "      <td id=\"T_05736_row14_col2\" class=\"data row14 col2\" >1934896479.1453</td>\n",
       "      <td id=\"T_05736_row14_col3\" class=\"data row14 col3\" >43777.2970</td>\n",
       "      <td id=\"T_05736_row14_col4\" class=\"data row14 col4\" >0.6811</td>\n",
       "      <td id=\"T_05736_row14_col5\" class=\"data row14 col5\" >0.2118</td>\n",
       "      <td id=\"T_05736_row14_col6\" class=\"data row14 col6\" >0.1536</td>\n",
       "      <td id=\"T_05736_row14_col7\" class=\"data row14 col7\" >0.7600</td>\n",
       "    </tr>\n",
       "    <tr>\n",
       "      <th id=\"T_05736_level0_row15\" class=\"row_heading level0 row15\" >dt</th>\n",
       "      <td id=\"T_05736_row15_col0\" class=\"data row15 col0\" >Decision Tree Regressor</td>\n",
       "      <td id=\"T_05736_row15_col1\" class=\"data row15 col1\" >27013.2520</td>\n",
       "      <td id=\"T_05736_row15_col2\" class=\"data row15 col2\" >1927462533.2377</td>\n",
       "      <td id=\"T_05736_row15_col3\" class=\"data row15 col3\" >42694.2792</td>\n",
       "      <td id=\"T_05736_row15_col4\" class=\"data row15 col4\" >0.6735</td>\n",
       "      <td id=\"T_05736_row15_col5\" class=\"data row15 col5\" >0.2109</td>\n",
       "      <td id=\"T_05736_row15_col6\" class=\"data row15 col6\" >0.1569</td>\n",
       "      <td id=\"T_05736_row15_col7\" class=\"data row15 col7\" >0.7730</td>\n",
       "    </tr>\n",
       "    <tr>\n",
       "      <th id=\"T_05736_level0_row16\" class=\"row_heading level0 row16\" >dummy</th>\n",
       "      <td id=\"T_05736_row16_col0\" class=\"data row16 col0\" >Dummy Regressor</td>\n",
       "      <td id=\"T_05736_row16_col1\" class=\"data row16 col1\" >58392.3587</td>\n",
       "      <td id=\"T_05736_row16_col2\" class=\"data row16 col2\" >6479024654.9652</td>\n",
       "      <td id=\"T_05736_row16_col3\" class=\"data row16 col3\" >79925.5643</td>\n",
       "      <td id=\"T_05736_row16_col4\" class=\"data row16 col4\" >-0.0221</td>\n",
       "      <td id=\"T_05736_row16_col5\" class=\"data row16 col5\" >0.4116</td>\n",
       "      <td id=\"T_05736_row16_col6\" class=\"data row16 col6\" >0.3682</td>\n",
       "      <td id=\"T_05736_row16_col7\" class=\"data row16 col7\" >0.7610</td>\n",
       "    </tr>\n",
       "    <tr>\n",
       "      <th id=\"T_05736_level0_row17\" class=\"row_heading level0 row17\" >lr</th>\n",
       "      <td id=\"T_05736_row17_col0\" class=\"data row17 col0\" >Linear Regression</td>\n",
       "      <td id=\"T_05736_row17_col1\" class=\"data row17 col1\" >1360161950999047.7500</td>\n",
       "      <td id=\"T_05736_row17_col2\" class=\"data row17 col2\" >276319440698961593865165890125824.0000</td>\n",
       "      <td id=\"T_05736_row17_col3\" class=\"data row17 col3\" >10521068756276988.0000</td>\n",
       "      <td id=\"T_05736_row17_col4\" class=\"data row17 col4\" >-36072922812605014212608.0000</td>\n",
       "      <td id=\"T_05736_row17_col5\" class=\"data row17 col5\" >3.9894</td>\n",
       "      <td id=\"T_05736_row17_col6\" class=\"data row17 col6\" >9858086261.6958</td>\n",
       "      <td id=\"T_05736_row17_col7\" class=\"data row17 col7\" >0.7470</td>\n",
       "    </tr>\n",
       "    <tr>\n",
       "      <th id=\"T_05736_level0_row18\" class=\"row_heading level0 row18\" >lar</th>\n",
       "      <td id=\"T_05736_row18_col0\" class=\"data row18 col0\" >Least Angle Regression</td>\n",
       "      <td id=\"T_05736_row18_col1\" class=\"data row18 col1\" >139648062181275034258785740181870427272361585321613344340353823094603776.0000</td>\n",
       "      <td id=\"T_05736_row18_col2\" class=\"data row18 col2\" >364941535450403044912793666705502723526748267825541553764400506152772480986360139561612392997359110717112657108548402509491720611067197030137856.0000</td>\n",
       "      <td id=\"T_05736_row18_col3\" class=\"data row18 col3\" >191034430260726333084150562343722708170469652387274214120178430307729408.0000</td>\n",
       "      <td id=\"T_05736_row18_col4\" class=\"data row18 col4\" >-41639876633005289034748543633426575935065376593440032049451208660450064317893304496289510904302428379740227994965278099020557685096448.0000</td>\n",
       "      <td id=\"T_05736_row18_col5\" class=\"data row18 col5\" >63.9269</td>\n",
       "      <td id=\"T_05736_row18_col6\" class=\"data row18 col6\" >908851954394875561948913589794490872559140671595030158155626577920.0000</td>\n",
       "      <td id=\"T_05736_row18_col7\" class=\"data row18 col7\" >0.8190</td>\n",
       "    </tr>\n",
       "  </tbody>\n",
       "</table>\n"
      ],
      "text/plain": [
       "<pandas.io.formats.style.Styler at 0x25af191cca0>"
      ]
     },
     "metadata": {},
     "output_type": "display_data"
    },
    {
     "data": {
      "application/vnd.jupyter.widget-view+json": {
       "model_id": "f2180ce8aa1447028eb969a11800564b",
       "version_major": 2,
       "version_minor": 0
      },
      "text/plain": [
       "Processing:   0%|          | 0/83 [00:00<?, ?it/s]"
      ]
     },
     "metadata": {},
     "output_type": "display_data"
    }
   ],
   "source": [
    "top3_models = compare_models(n_select=3)"
   ]
  },
  {
   "cell_type": "code",
   "execution_count": 37,
   "metadata": {},
   "outputs": [
    {
     "data": {
      "text/html": [],
      "text/plain": [
       "<IPython.core.display.HTML object>"
      ]
     },
     "metadata": {},
     "output_type": "display_data"
    },
    {
     "data": {
      "text/html": [
       "<style type=\"text/css\">\n",
       "#T_16d22_row10_col0, #T_16d22_row10_col1, #T_16d22_row10_col2, #T_16d22_row10_col3, #T_16d22_row10_col4, #T_16d22_row10_col5 {\n",
       "  background: yellow;\n",
       "}\n",
       "</style>\n",
       "<table id=\"T_16d22\">\n",
       "  <thead>\n",
       "    <tr>\n",
       "      <th class=\"blank level0\" >&nbsp;</th>\n",
       "      <th id=\"T_16d22_level0_col0\" class=\"col_heading level0 col0\" >MAE</th>\n",
       "      <th id=\"T_16d22_level0_col1\" class=\"col_heading level0 col1\" >MSE</th>\n",
       "      <th id=\"T_16d22_level0_col2\" class=\"col_heading level0 col2\" >RMSE</th>\n",
       "      <th id=\"T_16d22_level0_col3\" class=\"col_heading level0 col3\" >R2</th>\n",
       "      <th id=\"T_16d22_level0_col4\" class=\"col_heading level0 col4\" >RMSLE</th>\n",
       "      <th id=\"T_16d22_level0_col5\" class=\"col_heading level0 col5\" >MAPE</th>\n",
       "    </tr>\n",
       "    <tr>\n",
       "      <th class=\"index_name level0\" >Fold</th>\n",
       "      <th class=\"blank col0\" >&nbsp;</th>\n",
       "      <th class=\"blank col1\" >&nbsp;</th>\n",
       "      <th class=\"blank col2\" >&nbsp;</th>\n",
       "      <th class=\"blank col3\" >&nbsp;</th>\n",
       "      <th class=\"blank col4\" >&nbsp;</th>\n",
       "      <th class=\"blank col5\" >&nbsp;</th>\n",
       "    </tr>\n",
       "  </thead>\n",
       "  <tbody>\n",
       "    <tr>\n",
       "      <th id=\"T_16d22_level0_row0\" class=\"row_heading level0 row0\" >0</th>\n",
       "      <td id=\"T_16d22_row0_col0\" class=\"data row0 col0\" >18563.3528</td>\n",
       "      <td id=\"T_16d22_row0_col1\" class=\"data row0 col1\" >746776742.4094</td>\n",
       "      <td id=\"T_16d22_row0_col2\" class=\"data row0 col2\" >27327.2161</td>\n",
       "      <td id=\"T_16d22_row0_col3\" class=\"data row0 col3\" >0.8844</td>\n",
       "      <td id=\"T_16d22_row0_col4\" class=\"data row0 col4\" >0.1402</td>\n",
       "      <td id=\"T_16d22_row0_col5\" class=\"data row0 col5\" >0.1068</td>\n",
       "    </tr>\n",
       "    <tr>\n",
       "      <th id=\"T_16d22_level0_row1\" class=\"row_heading level0 row1\" >1</th>\n",
       "      <td id=\"T_16d22_row1_col0\" class=\"data row1 col0\" >14898.1765</td>\n",
       "      <td id=\"T_16d22_row1_col1\" class=\"data row1 col1\" >482848352.7237</td>\n",
       "      <td id=\"T_16d22_row1_col2\" class=\"data row1 col2\" >21973.8106</td>\n",
       "      <td id=\"T_16d22_row1_col3\" class=\"data row1 col3\" >0.8720</td>\n",
       "      <td id=\"T_16d22_row1_col4\" class=\"data row1 col4\" >0.1603</td>\n",
       "      <td id=\"T_16d22_row1_col5\" class=\"data row1 col5\" >0.1126</td>\n",
       "    </tr>\n",
       "    <tr>\n",
       "      <th id=\"T_16d22_level0_row2\" class=\"row_heading level0 row2\" >2</th>\n",
       "      <td id=\"T_16d22_row2_col0\" class=\"data row2 col0\" >15481.3645</td>\n",
       "      <td id=\"T_16d22_row2_col1\" class=\"data row2 col1\" >455195851.8457</td>\n",
       "      <td id=\"T_16d22_row2_col2\" class=\"data row2 col2\" >21335.3194</td>\n",
       "      <td id=\"T_16d22_row2_col3\" class=\"data row2 col3\" >0.9040</td>\n",
       "      <td id=\"T_16d22_row2_col4\" class=\"data row2 col4\" >0.1478</td>\n",
       "      <td id=\"T_16d22_row2_col5\" class=\"data row2 col5\" >0.1007</td>\n",
       "    </tr>\n",
       "    <tr>\n",
       "      <th id=\"T_16d22_level0_row3\" class=\"row_heading level0 row3\" >3</th>\n",
       "      <td id=\"T_16d22_row3_col0\" class=\"data row3 col0\" >16483.0453</td>\n",
       "      <td id=\"T_16d22_row3_col1\" class=\"data row3 col1\" >820906021.9348</td>\n",
       "      <td id=\"T_16d22_row3_col2\" class=\"data row3 col2\" >28651.4576</td>\n",
       "      <td id=\"T_16d22_row3_col3\" class=\"data row3 col3\" >0.8650</td>\n",
       "      <td id=\"T_16d22_row3_col4\" class=\"data row3 col4\" >0.1246</td>\n",
       "      <td id=\"T_16d22_row3_col5\" class=\"data row3 col5\" >0.0848</td>\n",
       "    </tr>\n",
       "    <tr>\n",
       "      <th id=\"T_16d22_level0_row4\" class=\"row_heading level0 row4\" >4</th>\n",
       "      <td id=\"T_16d22_row4_col0\" class=\"data row4 col0\" >20937.8627</td>\n",
       "      <td id=\"T_16d22_row4_col1\" class=\"data row4 col1\" >2279529289.7586</td>\n",
       "      <td id=\"T_16d22_row4_col2\" class=\"data row4 col2\" >47744.4163</td>\n",
       "      <td id=\"T_16d22_row4_col3\" class=\"data row4 col3\" >0.5032</td>\n",
       "      <td id=\"T_16d22_row4_col4\" class=\"data row4 col4\" >0.1858</td>\n",
       "      <td id=\"T_16d22_row4_col5\" class=\"data row4 col5\" >0.1222</td>\n",
       "    </tr>\n",
       "    <tr>\n",
       "      <th id=\"T_16d22_level0_row5\" class=\"row_heading level0 row5\" >5</th>\n",
       "      <td id=\"T_16d22_row5_col0\" class=\"data row5 col0\" >15438.8541</td>\n",
       "      <td id=\"T_16d22_row5_col1\" class=\"data row5 col1\" >499585205.7697</td>\n",
       "      <td id=\"T_16d22_row5_col2\" class=\"data row5 col2\" >22351.4028</td>\n",
       "      <td id=\"T_16d22_row5_col3\" class=\"data row5 col3\" >0.9354</td>\n",
       "      <td id=\"T_16d22_row5_col4\" class=\"data row5 col4\" >0.1536</td>\n",
       "      <td id=\"T_16d22_row5_col5\" class=\"data row5 col5\" >0.0988</td>\n",
       "    </tr>\n",
       "    <tr>\n",
       "      <th id=\"T_16d22_level0_row6\" class=\"row_heading level0 row6\" >6</th>\n",
       "      <td id=\"T_16d22_row6_col0\" class=\"data row6 col0\" >19702.8555</td>\n",
       "      <td id=\"T_16d22_row6_col1\" class=\"data row6 col1\" >1026125578.1438</td>\n",
       "      <td id=\"T_16d22_row6_col2\" class=\"data row6 col2\" >32033.1949</td>\n",
       "      <td id=\"T_16d22_row6_col3\" class=\"data row6 col3\" >0.8765</td>\n",
       "      <td id=\"T_16d22_row6_col4\" class=\"data row6 col4\" >0.1326</td>\n",
       "      <td id=\"T_16d22_row6_col5\" class=\"data row6 col5\" >0.0975</td>\n",
       "    </tr>\n",
       "    <tr>\n",
       "      <th id=\"T_16d22_level0_row7\" class=\"row_heading level0 row7\" >7</th>\n",
       "      <td id=\"T_16d22_row7_col0\" class=\"data row7 col0\" >20666.6146</td>\n",
       "      <td id=\"T_16d22_row7_col1\" class=\"data row7 col1\" >1299549619.5425</td>\n",
       "      <td id=\"T_16d22_row7_col2\" class=\"data row7 col2\" >36049.2666</td>\n",
       "      <td id=\"T_16d22_row7_col3\" class=\"data row7 col3\" >0.8517</td>\n",
       "      <td id=\"T_16d22_row7_col4\" class=\"data row7 col4\" >0.1640</td>\n",
       "      <td id=\"T_16d22_row7_col5\" class=\"data row7 col5\" >0.1185</td>\n",
       "    </tr>\n",
       "    <tr>\n",
       "      <th id=\"T_16d22_level0_row8\" class=\"row_heading level0 row8\" >8</th>\n",
       "      <td id=\"T_16d22_row8_col0\" class=\"data row8 col0\" >16459.5148</td>\n",
       "      <td id=\"T_16d22_row8_col1\" class=\"data row8 col1\" >716879097.1433</td>\n",
       "      <td id=\"T_16d22_row8_col2\" class=\"data row8 col2\" >26774.5980</td>\n",
       "      <td id=\"T_16d22_row8_col3\" class=\"data row8 col3\" >0.9045</td>\n",
       "      <td id=\"T_16d22_row8_col4\" class=\"data row8 col4\" >0.1125</td>\n",
       "      <td id=\"T_16d22_row8_col5\" class=\"data row8 col5\" >0.0859</td>\n",
       "    </tr>\n",
       "    <tr>\n",
       "      <th id=\"T_16d22_level0_row9\" class=\"row_heading level0 row9\" >9</th>\n",
       "      <td id=\"T_16d22_row9_col0\" class=\"data row9 col0\" >16033.7618</td>\n",
       "      <td id=\"T_16d22_row9_col1\" class=\"data row9 col1\" >512936443.8847</td>\n",
       "      <td id=\"T_16d22_row9_col2\" class=\"data row9 col2\" >22648.1002</td>\n",
       "      <td id=\"T_16d22_row9_col3\" class=\"data row9 col3\" >0.9121</td>\n",
       "      <td id=\"T_16d22_row9_col4\" class=\"data row9 col4\" >0.1198</td>\n",
       "      <td id=\"T_16d22_row9_col5\" class=\"data row9 col5\" >0.0896</td>\n",
       "    </tr>\n",
       "    <tr>\n",
       "      <th id=\"T_16d22_level0_row10\" class=\"row_heading level0 row10\" >Mean</th>\n",
       "      <td id=\"T_16d22_row10_col0\" class=\"data row10 col0\" >17466.5403</td>\n",
       "      <td id=\"T_16d22_row10_col1\" class=\"data row10 col1\" >884033220.3156</td>\n",
       "      <td id=\"T_16d22_row10_col2\" class=\"data row10 col2\" >28688.8782</td>\n",
       "      <td id=\"T_16d22_row10_col3\" class=\"data row10 col3\" >0.8509</td>\n",
       "      <td id=\"T_16d22_row10_col4\" class=\"data row10 col4\" >0.1441</td>\n",
       "      <td id=\"T_16d22_row10_col5\" class=\"data row10 col5\" >0.1017</td>\n",
       "    </tr>\n",
       "    <tr>\n",
       "      <th id=\"T_16d22_level0_row11\" class=\"row_heading level0 row11\" >Std</th>\n",
       "      <td id=\"T_16d22_row11_col0\" class=\"data row11 col0\" >2172.0452</td>\n",
       "      <td id=\"T_16d22_row11_col1\" class=\"data row11 col1\" >531166843.9157</td>\n",
       "      <td id=\"T_16d22_row11_col2\" class=\"data row11 col2\" >7809.0643</td>\n",
       "      <td id=\"T_16d22_row11_col3\" class=\"data row11 col3\" >0.1183</td>\n",
       "      <td id=\"T_16d22_row11_col4\" class=\"data row11 col4\" >0.0215</td>\n",
       "      <td id=\"T_16d22_row11_col5\" class=\"data row11 col5\" >0.0125</td>\n",
       "    </tr>\n",
       "  </tbody>\n",
       "</table>\n"
      ],
      "text/plain": [
       "<pandas.io.formats.style.Styler at 0x25af1bd6d90>"
      ]
     },
     "metadata": {},
     "output_type": "display_data"
    },
    {
     "data": {
      "application/vnd.jupyter.widget-view+json": {
       "model_id": "b7a2a329e94446fb82953ee487a2bf57",
       "version_major": 2,
       "version_minor": 0
      },
      "text/plain": [
       "Processing:   0%|          | 0/4 [00:00<?, ?it/s]"
      ]
     },
     "metadata": {},
     "output_type": "display_data"
    },
    {
     "data": {
      "text/html": [],
      "text/plain": [
       "<IPython.core.display.HTML object>"
      ]
     },
     "metadata": {},
     "output_type": "display_data"
    },
    {
     "data": {
      "text/html": [
       "<style type=\"text/css\">\n",
       "#T_f9176_row10_col0, #T_f9176_row10_col1, #T_f9176_row10_col2, #T_f9176_row10_col3, #T_f9176_row10_col4, #T_f9176_row10_col5 {\n",
       "  background: yellow;\n",
       "}\n",
       "</style>\n",
       "<table id=\"T_f9176\">\n",
       "  <thead>\n",
       "    <tr>\n",
       "      <th class=\"blank level0\" >&nbsp;</th>\n",
       "      <th id=\"T_f9176_level0_col0\" class=\"col_heading level0 col0\" >MAE</th>\n",
       "      <th id=\"T_f9176_level0_col1\" class=\"col_heading level0 col1\" >MSE</th>\n",
       "      <th id=\"T_f9176_level0_col2\" class=\"col_heading level0 col2\" >RMSE</th>\n",
       "      <th id=\"T_f9176_level0_col3\" class=\"col_heading level0 col3\" >R2</th>\n",
       "      <th id=\"T_f9176_level0_col4\" class=\"col_heading level0 col4\" >RMSLE</th>\n",
       "      <th id=\"T_f9176_level0_col5\" class=\"col_heading level0 col5\" >MAPE</th>\n",
       "    </tr>\n",
       "    <tr>\n",
       "      <th class=\"index_name level0\" >Fold</th>\n",
       "      <th class=\"blank col0\" >&nbsp;</th>\n",
       "      <th class=\"blank col1\" >&nbsp;</th>\n",
       "      <th class=\"blank col2\" >&nbsp;</th>\n",
       "      <th class=\"blank col3\" >&nbsp;</th>\n",
       "      <th class=\"blank col4\" >&nbsp;</th>\n",
       "      <th class=\"blank col5\" >&nbsp;</th>\n",
       "    </tr>\n",
       "  </thead>\n",
       "  <tbody>\n",
       "    <tr>\n",
       "      <th id=\"T_f9176_level0_row0\" class=\"row_heading level0 row0\" >0</th>\n",
       "      <td id=\"T_f9176_row0_col0\" class=\"data row0 col0\" >16823.1578</td>\n",
       "      <td id=\"T_f9176_row0_col1\" class=\"data row0 col1\" >631396700.2072</td>\n",
       "      <td id=\"T_f9176_row0_col2\" class=\"data row0 col2\" >25127.6083</td>\n",
       "      <td id=\"T_f9176_row0_col3\" class=\"data row0 col3\" >0.9023</td>\n",
       "      <td id=\"T_f9176_row0_col4\" class=\"data row0 col4\" >0.1311</td>\n",
       "      <td id=\"T_f9176_row0_col5\" class=\"data row0 col5\" >0.0969</td>\n",
       "    </tr>\n",
       "    <tr>\n",
       "      <th id=\"T_f9176_level0_row1\" class=\"row_heading level0 row1\" >1</th>\n",
       "      <td id=\"T_f9176_row1_col0\" class=\"data row1 col0\" >15627.2328</td>\n",
       "      <td id=\"T_f9176_row1_col1\" class=\"data row1 col1\" >450045638.2428</td>\n",
       "      <td id=\"T_f9176_row1_col2\" class=\"data row1 col2\" >21214.2791</td>\n",
       "      <td id=\"T_f9176_row1_col3\" class=\"data row1 col3\" >0.8807</td>\n",
       "      <td id=\"T_f9176_row1_col4\" class=\"data row1 col4\" >0.1658</td>\n",
       "      <td id=\"T_f9176_row1_col5\" class=\"data row1 col5\" >0.1192</td>\n",
       "    </tr>\n",
       "    <tr>\n",
       "      <th id=\"T_f9176_level0_row2\" class=\"row_heading level0 row2\" >2</th>\n",
       "      <td id=\"T_f9176_row2_col0\" class=\"data row2 col0\" >15892.4255</td>\n",
       "      <td id=\"T_f9176_row2_col1\" class=\"data row2 col1\" >547630962.0053</td>\n",
       "      <td id=\"T_f9176_row2_col2\" class=\"data row2 col2\" >23401.5162</td>\n",
       "      <td id=\"T_f9176_row2_col3\" class=\"data row2 col3\" >0.8845</td>\n",
       "      <td id=\"T_f9176_row2_col4\" class=\"data row2 col4\" >0.1611</td>\n",
       "      <td id=\"T_f9176_row2_col5\" class=\"data row2 col5\" >0.1058</td>\n",
       "    </tr>\n",
       "    <tr>\n",
       "      <th id=\"T_f9176_level0_row3\" class=\"row_heading level0 row3\" >3</th>\n",
       "      <td id=\"T_f9176_row3_col0\" class=\"data row3 col0\" >16673.2426</td>\n",
       "      <td id=\"T_f9176_row3_col1\" class=\"data row3 col1\" >836676633.0202</td>\n",
       "      <td id=\"T_f9176_row3_col2\" class=\"data row3 col2\" >28925.3631</td>\n",
       "      <td id=\"T_f9176_row3_col3\" class=\"data row3 col3\" >0.8624</td>\n",
       "      <td id=\"T_f9176_row3_col4\" class=\"data row3 col4\" >0.1240</td>\n",
       "      <td id=\"T_f9176_row3_col5\" class=\"data row3 col5\" >0.0859</td>\n",
       "    </tr>\n",
       "    <tr>\n",
       "      <th id=\"T_f9176_level0_row4\" class=\"row_heading level0 row4\" >4</th>\n",
       "      <td id=\"T_f9176_row4_col0\" class=\"data row4 col0\" >20210.4683</td>\n",
       "      <td id=\"T_f9176_row4_col1\" class=\"data row4 col1\" >2985264110.3932</td>\n",
       "      <td id=\"T_f9176_row4_col2\" class=\"data row4 col2\" >54637.5705</td>\n",
       "      <td id=\"T_f9176_row4_col3\" class=\"data row4 col3\" >0.3493</td>\n",
       "      <td id=\"T_f9176_row4_col4\" class=\"data row4 col4\" >0.1837</td>\n",
       "      <td id=\"T_f9176_row4_col5\" class=\"data row4 col5\" >0.1181</td>\n",
       "    </tr>\n",
       "    <tr>\n",
       "      <th id=\"T_f9176_level0_row5\" class=\"row_heading level0 row5\" >5</th>\n",
       "      <td id=\"T_f9176_row5_col0\" class=\"data row5 col0\" >14952.5300</td>\n",
       "      <td id=\"T_f9176_row5_col1\" class=\"data row5 col1\" >479861576.8825</td>\n",
       "      <td id=\"T_f9176_row5_col2\" class=\"data row5 col2\" >21905.7430</td>\n",
       "      <td id=\"T_f9176_row5_col3\" class=\"data row5 col3\" >0.9380</td>\n",
       "      <td id=\"T_f9176_row5_col4\" class=\"data row5 col4\" >0.1455</td>\n",
       "      <td id=\"T_f9176_row5_col5\" class=\"data row5 col5\" >0.0958</td>\n",
       "    </tr>\n",
       "    <tr>\n",
       "      <th id=\"T_f9176_level0_row6\" class=\"row_heading level0 row6\" >6</th>\n",
       "      <td id=\"T_f9176_row6_col0\" class=\"data row6 col0\" >20768.0366</td>\n",
       "      <td id=\"T_f9176_row6_col1\" class=\"data row6 col1\" >1030309673.2940</td>\n",
       "      <td id=\"T_f9176_row6_col2\" class=\"data row6 col2\" >32098.4372</td>\n",
       "      <td id=\"T_f9176_row6_col3\" class=\"data row6 col3\" >0.8760</td>\n",
       "      <td id=\"T_f9176_row6_col4\" class=\"data row6 col4\" >0.1357</td>\n",
       "      <td id=\"T_f9176_row6_col5\" class=\"data row6 col5\" >0.1064</td>\n",
       "    </tr>\n",
       "    <tr>\n",
       "      <th id=\"T_f9176_level0_row7\" class=\"row_heading level0 row7\" >7</th>\n",
       "      <td id=\"T_f9176_row7_col0\" class=\"data row7 col0\" >19362.0642</td>\n",
       "      <td id=\"T_f9176_row7_col1\" class=\"data row7 col1\" >1116399922.5112</td>\n",
       "      <td id=\"T_f9176_row7_col2\" class=\"data row7 col2\" >33412.5713</td>\n",
       "      <td id=\"T_f9176_row7_col3\" class=\"data row7 col3\" >0.8726</td>\n",
       "      <td id=\"T_f9176_row7_col4\" class=\"data row7 col4\" >0.1597</td>\n",
       "      <td id=\"T_f9176_row7_col5\" class=\"data row7 col5\" >0.1117</td>\n",
       "    </tr>\n",
       "    <tr>\n",
       "      <th id=\"T_f9176_level0_row8\" class=\"row_heading level0 row8\" >8</th>\n",
       "      <td id=\"T_f9176_row8_col0\" class=\"data row8 col0\" >17108.8696</td>\n",
       "      <td id=\"T_f9176_row8_col1\" class=\"data row8 col1\" >712792604.9571</td>\n",
       "      <td id=\"T_f9176_row8_col2\" class=\"data row8 col2\" >26698.1761</td>\n",
       "      <td id=\"T_f9176_row8_col3\" class=\"data row8 col3\" >0.9050</td>\n",
       "      <td id=\"T_f9176_row8_col4\" class=\"data row8 col4\" >0.1173</td>\n",
       "      <td id=\"T_f9176_row8_col5\" class=\"data row8 col5\" >0.0898</td>\n",
       "    </tr>\n",
       "    <tr>\n",
       "      <th id=\"T_f9176_level0_row9\" class=\"row_heading level0 row9\" >9</th>\n",
       "      <td id=\"T_f9176_row9_col0\" class=\"data row9 col0\" >15835.9025</td>\n",
       "      <td id=\"T_f9176_row9_col1\" class=\"data row9 col1\" >517210565.6610</td>\n",
       "      <td id=\"T_f9176_row9_col2\" class=\"data row9 col2\" >22742.2639</td>\n",
       "      <td id=\"T_f9176_row9_col3\" class=\"data row9 col3\" >0.9113</td>\n",
       "      <td id=\"T_f9176_row9_col4\" class=\"data row9 col4\" >0.1261</td>\n",
       "      <td id=\"T_f9176_row9_col5\" class=\"data row9 col5\" >0.0913</td>\n",
       "    </tr>\n",
       "    <tr>\n",
       "      <th id=\"T_f9176_level0_row10\" class=\"row_heading level0 row10\" >Mean</th>\n",
       "      <td id=\"T_f9176_row10_col0\" class=\"data row10 col0\" >17325.3930</td>\n",
       "      <td id=\"T_f9176_row10_col1\" class=\"data row10 col1\" >930758838.7174</td>\n",
       "      <td id=\"T_f9176_row10_col2\" class=\"data row10 col2\" >29016.3529</td>\n",
       "      <td id=\"T_f9176_row10_col3\" class=\"data row10 col3\" >0.8382</td>\n",
       "      <td id=\"T_f9176_row10_col4\" class=\"data row10 col4\" >0.1450</td>\n",
       "      <td id=\"T_f9176_row10_col5\" class=\"data row10 col5\" >0.1021</td>\n",
       "    </tr>\n",
       "    <tr>\n",
       "      <th id=\"T_f9176_level0_row11\" class=\"row_heading level0 row11\" >Std</th>\n",
       "      <td id=\"T_f9176_row11_col0\" class=\"data row11 col0\" >1945.0993</td>\n",
       "      <td id=\"T_f9176_row11_col1\" class=\"data row11 col1\" >718578178.6532</td>\n",
       "      <td id=\"T_f9176_row11_col2\" class=\"data row11 col2\" >9423.9113</td>\n",
       "      <td id=\"T_f9176_row11_col3\" class=\"data row11 col3\" >0.1643</td>\n",
       "      <td id=\"T_f9176_row11_col4\" class=\"data row11 col4\" >0.0206</td>\n",
       "      <td id=\"T_f9176_row11_col5\" class=\"data row11 col5\" >0.0113</td>\n",
       "    </tr>\n",
       "  </tbody>\n",
       "</table>\n"
      ],
      "text/plain": [
       "<pandas.io.formats.style.Styler at 0x25af3bde5b0>"
      ]
     },
     "metadata": {},
     "output_type": "display_data"
    },
    {
     "data": {
      "application/vnd.jupyter.widget-view+json": {
       "model_id": "44d14cc1d76f449893345a940d0b353e",
       "version_major": 2,
       "version_minor": 0
      },
      "text/plain": [
       "Processing:   0%|          | 0/4 [00:00<?, ?it/s]"
      ]
     },
     "metadata": {},
     "output_type": "display_data"
    },
    {
     "data": {
      "text/html": [],
      "text/plain": [
       "<IPython.core.display.HTML object>"
      ]
     },
     "metadata": {},
     "output_type": "display_data"
    },
    {
     "data": {
      "text/html": [
       "<style type=\"text/css\">\n",
       "#T_6c518_row10_col0, #T_6c518_row10_col1, #T_6c518_row10_col2, #T_6c518_row10_col3, #T_6c518_row10_col4, #T_6c518_row10_col5 {\n",
       "  background: yellow;\n",
       "}\n",
       "</style>\n",
       "<table id=\"T_6c518\">\n",
       "  <thead>\n",
       "    <tr>\n",
       "      <th class=\"blank level0\" >&nbsp;</th>\n",
       "      <th id=\"T_6c518_level0_col0\" class=\"col_heading level0 col0\" >MAE</th>\n",
       "      <th id=\"T_6c518_level0_col1\" class=\"col_heading level0 col1\" >MSE</th>\n",
       "      <th id=\"T_6c518_level0_col2\" class=\"col_heading level0 col2\" >RMSE</th>\n",
       "      <th id=\"T_6c518_level0_col3\" class=\"col_heading level0 col3\" >R2</th>\n",
       "      <th id=\"T_6c518_level0_col4\" class=\"col_heading level0 col4\" >RMSLE</th>\n",
       "      <th id=\"T_6c518_level0_col5\" class=\"col_heading level0 col5\" >MAPE</th>\n",
       "    </tr>\n",
       "    <tr>\n",
       "      <th class=\"index_name level0\" >Fold</th>\n",
       "      <th class=\"blank col0\" >&nbsp;</th>\n",
       "      <th class=\"blank col1\" >&nbsp;</th>\n",
       "      <th class=\"blank col2\" >&nbsp;</th>\n",
       "      <th class=\"blank col3\" >&nbsp;</th>\n",
       "      <th class=\"blank col4\" >&nbsp;</th>\n",
       "      <th class=\"blank col5\" >&nbsp;</th>\n",
       "    </tr>\n",
       "  </thead>\n",
       "  <tbody>\n",
       "    <tr>\n",
       "      <th id=\"T_6c518_level0_row0\" class=\"row_heading level0 row0\" >0</th>\n",
       "      <td id=\"T_6c518_row0_col0\" class=\"data row0 col0\" >20537.7250</td>\n",
       "      <td id=\"T_6c518_row0_col1\" class=\"data row0 col1\" >1074058158.4059</td>\n",
       "      <td id=\"T_6c518_row0_col2\" class=\"data row0 col2\" >32772.8265</td>\n",
       "      <td id=\"T_6c518_row0_col3\" class=\"data row0 col3\" >0.8337</td>\n",
       "      <td id=\"T_6c518_row0_col4\" class=\"data row0 col4\" >0.1572</td>\n",
       "      <td id=\"T_6c518_row0_col5\" class=\"data row0 col5\" >0.1171</td>\n",
       "    </tr>\n",
       "    <tr>\n",
       "      <th id=\"T_6c518_level0_row1\" class=\"row_heading level0 row1\" >1</th>\n",
       "      <td id=\"T_6c518_row1_col0\" class=\"data row1 col0\" >14325.5733</td>\n",
       "      <td id=\"T_6c518_row1_col1\" class=\"data row1 col1\" >489904434.2083</td>\n",
       "      <td id=\"T_6c518_row1_col2\" class=\"data row1 col2\" >22133.7849</td>\n",
       "      <td id=\"T_6c518_row1_col3\" class=\"data row1 col3\" >0.8701</td>\n",
       "      <td id=\"T_6c518_row1_col4\" class=\"data row1 col4\" >0.2434</td>\n",
       "      <td id=\"T_6c518_row1_col5\" class=\"data row1 col5\" >0.1133</td>\n",
       "    </tr>\n",
       "    <tr>\n",
       "      <th id=\"T_6c518_level0_row2\" class=\"row_heading level0 row2\" >2</th>\n",
       "      <td id=\"T_6c518_row2_col0\" class=\"data row2 col0\" >18174.6892</td>\n",
       "      <td id=\"T_6c518_row2_col1\" class=\"data row2 col1\" >639354119.7562</td>\n",
       "      <td id=\"T_6c518_row2_col2\" class=\"data row2 col2\" >25285.4527</td>\n",
       "      <td id=\"T_6c518_row2_col3\" class=\"data row2 col3\" >0.8652</td>\n",
       "      <td id=\"T_6c518_row2_col4\" class=\"data row2 col4\" >0.1556</td>\n",
       "      <td id=\"T_6c518_row2_col5\" class=\"data row2 col5\" >0.1162</td>\n",
       "    </tr>\n",
       "    <tr>\n",
       "      <th id=\"T_6c518_level0_row3\" class=\"row_heading level0 row3\" >3</th>\n",
       "      <td id=\"T_6c518_row3_col0\" class=\"data row3 col0\" >17465.8047</td>\n",
       "      <td id=\"T_6c518_row3_col1\" class=\"data row3 col1\" >694074956.3025</td>\n",
       "      <td id=\"T_6c518_row3_col2\" class=\"data row3 col2\" >26345.3024</td>\n",
       "      <td id=\"T_6c518_row3_col3\" class=\"data row3 col3\" >0.8859</td>\n",
       "      <td id=\"T_6c518_row3_col4\" class=\"data row3 col4\" >0.1316</td>\n",
       "      <td id=\"T_6c518_row3_col5\" class=\"data row3 col5\" >0.0940</td>\n",
       "    </tr>\n",
       "    <tr>\n",
       "      <th id=\"T_6c518_level0_row4\" class=\"row_heading level0 row4\" >4</th>\n",
       "      <td id=\"T_6c518_row4_col0\" class=\"data row4 col0\" >21378.0053</td>\n",
       "      <td id=\"T_6c518_row4_col1\" class=\"data row4 col1\" >2653870912.6269</td>\n",
       "      <td id=\"T_6c518_row4_col2\" class=\"data row4 col2\" >51515.7346</td>\n",
       "      <td id=\"T_6c518_row4_col3\" class=\"data row4 col3\" >0.4216</td>\n",
       "      <td id=\"T_6c518_row4_col4\" class=\"data row4 col4\" >0.1915</td>\n",
       "      <td id=\"T_6c518_row4_col5\" class=\"data row4 col5\" >0.1285</td>\n",
       "    </tr>\n",
       "    <tr>\n",
       "      <th id=\"T_6c518_level0_row5\" class=\"row_heading level0 row5\" >5</th>\n",
       "      <td id=\"T_6c518_row5_col0\" class=\"data row5 col0\" >17956.8526</td>\n",
       "      <td id=\"T_6c518_row5_col1\" class=\"data row5 col1\" >694236316.3477</td>\n",
       "      <td id=\"T_6c518_row5_col2\" class=\"data row5 col2\" >26348.3646</td>\n",
       "      <td id=\"T_6c518_row5_col3\" class=\"data row5 col3\" >0.9103</td>\n",
       "      <td id=\"T_6c518_row5_col4\" class=\"data row5 col4\" >0.1751</td>\n",
       "      <td id=\"T_6c518_row5_col5\" class=\"data row5 col5\" >0.1160</td>\n",
       "    </tr>\n",
       "    <tr>\n",
       "      <th id=\"T_6c518_level0_row6\" class=\"row_heading level0 row6\" >6</th>\n",
       "      <td id=\"T_6c518_row6_col0\" class=\"data row6 col0\" >20360.8917</td>\n",
       "      <td id=\"T_6c518_row6_col1\" class=\"data row6 col1\" >950668016.4572</td>\n",
       "      <td id=\"T_6c518_row6_col2\" class=\"data row6 col2\" >30832.9048</td>\n",
       "      <td id=\"T_6c518_row6_col3\" class=\"data row6 col3\" >0.8856</td>\n",
       "      <td id=\"T_6c518_row6_col4\" class=\"data row6 col4\" >0.3029</td>\n",
       "      <td id=\"T_6c518_row6_col5\" class=\"data row6 col5\" >0.1092</td>\n",
       "    </tr>\n",
       "    <tr>\n",
       "      <th id=\"T_6c518_level0_row7\" class=\"row_heading level0 row7\" >7</th>\n",
       "      <td id=\"T_6c518_row7_col0\" class=\"data row7 col0\" >20341.6531</td>\n",
       "      <td id=\"T_6c518_row7_col1\" class=\"data row7 col1\" >1432480071.7069</td>\n",
       "      <td id=\"T_6c518_row7_col2\" class=\"data row7 col2\" >37848.1185</td>\n",
       "      <td id=\"T_6c518_row7_col3\" class=\"data row7 col3\" >0.8366</td>\n",
       "      <td id=\"T_6c518_row7_col4\" class=\"data row7 col4\" >0.1888</td>\n",
       "      <td id=\"T_6c518_row7_col5\" class=\"data row7 col5\" >0.1219</td>\n",
       "    </tr>\n",
       "    <tr>\n",
       "      <th id=\"T_6c518_level0_row8\" class=\"row_heading level0 row8\" >8</th>\n",
       "      <td id=\"T_6c518_row8_col0\" class=\"data row8 col0\" >18873.7483</td>\n",
       "      <td id=\"T_6c518_row8_col1\" class=\"data row8 col1\" >887732127.3340</td>\n",
       "      <td id=\"T_6c518_row8_col2\" class=\"data row8 col2\" >29794.8339</td>\n",
       "      <td id=\"T_6c518_row8_col3\" class=\"data row8 col3\" >0.8817</td>\n",
       "      <td id=\"T_6c518_row8_col4\" class=\"data row8 col4\" >0.1198</td>\n",
       "      <td id=\"T_6c518_row8_col5\" class=\"data row8 col5\" >0.0929</td>\n",
       "    </tr>\n",
       "    <tr>\n",
       "      <th id=\"T_6c518_level0_row9\" class=\"row_heading level0 row9\" >9</th>\n",
       "      <td id=\"T_6c518_row9_col0\" class=\"data row9 col0\" >15782.4671</td>\n",
       "      <td id=\"T_6c518_row9_col1\" class=\"data row9 col1\" >547442978.7856</td>\n",
       "      <td id=\"T_6c518_row9_col2\" class=\"data row9 col2\" >23397.4994</td>\n",
       "      <td id=\"T_6c518_row9_col3\" class=\"data row9 col3\" >0.9061</td>\n",
       "      <td id=\"T_6c518_row9_col4\" class=\"data row9 col4\" >0.1206</td>\n",
       "      <td id=\"T_6c518_row9_col5\" class=\"data row9 col5\" >0.0884</td>\n",
       "    </tr>\n",
       "    <tr>\n",
       "      <th id=\"T_6c518_level0_row10\" class=\"row_heading level0 row10\" >Mean</th>\n",
       "      <td id=\"T_6c518_row10_col0\" class=\"data row10 col0\" >18519.7410</td>\n",
       "      <td id=\"T_6c518_row10_col1\" class=\"data row10 col1\" >1006382209.1931</td>\n",
       "      <td id=\"T_6c518_row10_col2\" class=\"data row10 col2\" >30627.4822</td>\n",
       "      <td id=\"T_6c518_row10_col3\" class=\"data row10 col3\" >0.8297</td>\n",
       "      <td id=\"T_6c518_row10_col4\" class=\"data row10 col4\" >0.1786</td>\n",
       "      <td id=\"T_6c518_row10_col5\" class=\"data row10 col5\" >0.1098</td>\n",
       "    </tr>\n",
       "    <tr>\n",
       "      <th id=\"T_6c518_level0_row11\" class=\"row_heading level0 row11\" >Std</th>\n",
       "      <td id=\"T_6c518_row11_col0\" class=\"data row11 col0\" >2137.9161</td>\n",
       "      <td id=\"T_6c518_row11_col1\" class=\"data row11 col1\" >610294631.3056</td>\n",
       "      <td id=\"T_6c518_row11_col2\" class=\"data row11 col2\" >8266.7734</td>\n",
       "      <td id=\"T_6c518_row11_col3\" class=\"data row11 col3\" >0.1381</td>\n",
       "      <td id=\"T_6c518_row11_col4\" class=\"data row11 col4\" >0.0547</td>\n",
       "      <td id=\"T_6c518_row11_col5\" class=\"data row11 col5\" >0.0128</td>\n",
       "    </tr>\n",
       "  </tbody>\n",
       "</table>\n"
      ],
      "text/plain": [
       "<pandas.io.formats.style.Styler at 0x25af3bde220>"
      ]
     },
     "metadata": {},
     "output_type": "display_data"
    },
    {
     "data": {
      "application/vnd.jupyter.widget-view+json": {
       "model_id": "be408c52991e492497aad0c7ddf8ac3f",
       "version_major": 2,
       "version_minor": 0
      },
      "text/plain": [
       "Processing:   0%|          | 0/4 [00:00<?, ?it/s]"
      ]
     },
     "metadata": {},
     "output_type": "display_data"
    }
   ],
   "source": [
    "model1 = create_model(top3_models[0])\n",
    "model2 = create_model(top3_models[1])\n",
    "model3 = create_model(top3_models[2])"
   ]
  },
  {
   "cell_type": "code",
   "execution_count": 38,
   "metadata": {},
   "outputs": [
    {
     "data": {
      "application/vnd.jupyter.widget-view+json": {
       "model_id": "f2b1ab395ee24f76b0a161dbfb620936",
       "version_major": 2,
       "version_minor": 0
      },
      "text/plain": [
       "interactive(children=(ToggleButtons(description='Plot Type:', icons=('',), options=(('Pipeline Plot', 'pipelin…"
      ]
     },
     "metadata": {},
     "output_type": "display_data"
    },
    {
     "data": {
      "application/vnd.jupyter.widget-view+json": {
       "model_id": "8067df22f9c5413ea74883909c6a31fe",
       "version_major": 2,
       "version_minor": 0
      },
      "text/plain": [
       "interactive(children=(ToggleButtons(description='Plot Type:', icons=('',), options=(('Pipeline Plot', 'pipelin…"
      ]
     },
     "metadata": {},
     "output_type": "display_data"
    },
    {
     "data": {
      "application/vnd.jupyter.widget-view+json": {
       "model_id": "2d82d07609d7413d85fbebbabf7346bb",
       "version_major": 2,
       "version_minor": 0
      },
      "text/plain": [
       "interactive(children=(ToggleButtons(description='Plot Type:', icons=('',), options=(('Pipeline Plot', 'pipelin…"
      ]
     },
     "metadata": {},
     "output_type": "display_data"
    }
   ],
   "source": [
    "evaluate_model(model1)\n",
    "evaluate_model(model2)\n",
    "evaluate_model(model3)"
   ]
  },
  {
   "cell_type": "code",
   "execution_count": 39,
   "metadata": {},
   "outputs": [
    {
     "data": {
      "text/html": [],
      "text/plain": [
       "<IPython.core.display.HTML object>"
      ]
     },
     "metadata": {},
     "output_type": "display_data"
    },
    {
     "data": {
      "image/png": "[encoded data removed]",
      "text/plain": [
       "<Figure size 800x500 with 1 Axes>"
      ]
     },
     "metadata": {
      "needs_background": "light"
     },
     "output_type": "display_data"
    },
    {
     "data": {
      "text/html": [],
      "text/plain": [
       "<IPython.core.display.HTML object>"
      ]
     },
     "metadata": {},
     "output_type": "display_data"
    },
    {
     "data": {
      "image/png": "[encoded data removed]",
      "text/plain": [
       "<Figure size 800x500 with 1 Axes>"
      ]
     },
     "metadata": {
      "needs_background": "light"
     },
     "output_type": "display_data"
    },
    {
     "data": {
      "text/html": [],
      "text/plain": [
       "<IPython.core.display.HTML object>"
      ]
     },
     "metadata": {},
     "output_type": "display_data"
    },
    {
     "data": {
      "image/png": "[encoded data removed]",
      "text/plain": [
       "<Figure size 800x500 with 1 Axes>"
      ]
     },
     "metadata": {
      "needs_background": "light"
     },
     "output_type": "display_data"
    }
   ],
   "source": [
    "plot_model(model1, plot='feature')\n",
    "plot_model(model2, plot='feature')\n",
    "plot_model(model3, plot='feature')"
   ]
  },
  {
   "cell_type": "markdown",
   "metadata": {},
   "source": [
    "7. Optimización de hiper-parámetros"
   ]
  },
  {
   "cell_type": "code",
   "execution_count": 40,
   "metadata": {},
   "outputs": [
    {
     "data": {
      "text/html": [],
      "text/plain": [
       "<IPython.core.display.HTML object>"
      ]
     },
     "metadata": {},
     "output_type": "display_data"
    },
    {
     "data": {
      "text/html": [
       "<style type=\"text/css\">\n",
       "#T_c1ad6_row10_col0, #T_c1ad6_row10_col1, #T_c1ad6_row10_col2, #T_c1ad6_row10_col3, #T_c1ad6_row10_col4, #T_c1ad6_row10_col5 {\n",
       "  background: yellow;\n",
       "}\n",
       "</style>\n",
       "<table id=\"T_c1ad6\">\n",
       "  <thead>\n",
       "    <tr>\n",
       "      <th class=\"blank level0\" >&nbsp;</th>\n",
       "      <th id=\"T_c1ad6_level0_col0\" class=\"col_heading level0 col0\" >MAE</th>\n",
       "      <th id=\"T_c1ad6_level0_col1\" class=\"col_heading level0 col1\" >MSE</th>\n",
       "      <th id=\"T_c1ad6_level0_col2\" class=\"col_heading level0 col2\" >RMSE</th>\n",
       "      <th id=\"T_c1ad6_level0_col3\" class=\"col_heading level0 col3\" >R2</th>\n",
       "      <th id=\"T_c1ad6_level0_col4\" class=\"col_heading level0 col4\" >RMSLE</th>\n",
       "      <th id=\"T_c1ad6_level0_col5\" class=\"col_heading level0 col5\" >MAPE</th>\n",
       "    </tr>\n",
       "    <tr>\n",
       "      <th class=\"index_name level0\" >Fold</th>\n",
       "      <th class=\"blank col0\" >&nbsp;</th>\n",
       "      <th class=\"blank col1\" >&nbsp;</th>\n",
       "      <th class=\"blank col2\" >&nbsp;</th>\n",
       "      <th class=\"blank col3\" >&nbsp;</th>\n",
       "      <th class=\"blank col4\" >&nbsp;</th>\n",
       "      <th class=\"blank col5\" >&nbsp;</th>\n",
       "    </tr>\n",
       "  </thead>\n",
       "  <tbody>\n",
       "    <tr>\n",
       "      <th id=\"T_c1ad6_level0_row0\" class=\"row_heading level0 row0\" >0</th>\n",
       "      <td id=\"T_c1ad6_row0_col0\" class=\"data row0 col0\" >19388.9350</td>\n",
       "      <td id=\"T_c1ad6_row0_col1\" class=\"data row0 col1\" >883189802.0267</td>\n",
       "      <td id=\"T_c1ad6_row0_col2\" class=\"data row0 col2\" >29718.5094</td>\n",
       "      <td id=\"T_c1ad6_row0_col3\" class=\"data row0 col3\" >0.8633</td>\n",
       "      <td id=\"T_c1ad6_row0_col4\" class=\"data row0 col4\" >0.1415</td>\n",
       "      <td id=\"T_c1ad6_row0_col5\" class=\"data row0 col5\" >0.1086</td>\n",
       "    </tr>\n",
       "    <tr>\n",
       "      <th id=\"T_c1ad6_level0_row1\" class=\"row_heading level0 row1\" >1</th>\n",
       "      <td id=\"T_c1ad6_row1_col0\" class=\"data row1 col0\" >15292.9137</td>\n",
       "      <td id=\"T_c1ad6_row1_col1\" class=\"data row1 col1\" >521351176.7084</td>\n",
       "      <td id=\"T_c1ad6_row1_col2\" class=\"data row1 col2\" >22833.1158</td>\n",
       "      <td id=\"T_c1ad6_row1_col3\" class=\"data row1 col3\" >0.8618</td>\n",
       "      <td id=\"T_c1ad6_row1_col4\" class=\"data row1 col4\" >0.1675</td>\n",
       "      <td id=\"T_c1ad6_row1_col5\" class=\"data row1 col5\" >0.1192</td>\n",
       "    </tr>\n",
       "    <tr>\n",
       "      <th id=\"T_c1ad6_level0_row2\" class=\"row_heading level0 row2\" >2</th>\n",
       "      <td id=\"T_c1ad6_row2_col0\" class=\"data row2 col0\" >18645.7891</td>\n",
       "      <td id=\"T_c1ad6_row2_col1\" class=\"data row2 col1\" >682232673.3387</td>\n",
       "      <td id=\"T_c1ad6_row2_col2\" class=\"data row2 col2\" >26119.5841</td>\n",
       "      <td id=\"T_c1ad6_row2_col3\" class=\"data row2 col3\" >0.8561</td>\n",
       "      <td id=\"T_c1ad6_row2_col4\" class=\"data row2 col4\" >0.1679</td>\n",
       "      <td id=\"T_c1ad6_row2_col5\" class=\"data row2 col5\" >0.1223</td>\n",
       "    </tr>\n",
       "    <tr>\n",
       "      <th id=\"T_c1ad6_level0_row3\" class=\"row_heading level0 row3\" >3</th>\n",
       "      <td id=\"T_c1ad6_row3_col0\" class=\"data row3 col0\" >18909.7025</td>\n",
       "      <td id=\"T_c1ad6_row3_col1\" class=\"data row3 col1\" >1039297409.2490</td>\n",
       "      <td id=\"T_c1ad6_row3_col2\" class=\"data row3 col2\" >32238.1359</td>\n",
       "      <td id=\"T_c1ad6_row3_col3\" class=\"data row3 col3\" >0.8291</td>\n",
       "      <td id=\"T_c1ad6_row3_col4\" class=\"data row3 col4\" >0.1404</td>\n",
       "      <td id=\"T_c1ad6_row3_col5\" class=\"data row3 col5\" >0.0983</td>\n",
       "    </tr>\n",
       "    <tr>\n",
       "      <th id=\"T_c1ad6_level0_row4\" class=\"row_heading level0 row4\" >4</th>\n",
       "      <td id=\"T_c1ad6_row4_col0\" class=\"data row4 col0\" >19862.0544</td>\n",
       "      <td id=\"T_c1ad6_row4_col1\" class=\"data row4 col1\" >1839035816.2250</td>\n",
       "      <td id=\"T_c1ad6_row4_col2\" class=\"data row4 col2\" >42883.9809</td>\n",
       "      <td id=\"T_c1ad6_row4_col3\" class=\"data row4 col3\" >0.5992</td>\n",
       "      <td id=\"T_c1ad6_row4_col4\" class=\"data row4 col4\" >0.1815</td>\n",
       "      <td id=\"T_c1ad6_row4_col5\" class=\"data row4 col5\" >0.1206</td>\n",
       "    </tr>\n",
       "    <tr>\n",
       "      <th id=\"T_c1ad6_level0_row5\" class=\"row_heading level0 row5\" >5</th>\n",
       "      <td id=\"T_c1ad6_row5_col0\" class=\"data row5 col0\" >15784.3118</td>\n",
       "      <td id=\"T_c1ad6_row5_col1\" class=\"data row5 col1\" >553120626.2861</td>\n",
       "      <td id=\"T_c1ad6_row5_col2\" class=\"data row5 col2\" >23518.5167</td>\n",
       "      <td id=\"T_c1ad6_row5_col3\" class=\"data row5 col3\" >0.9285</td>\n",
       "      <td id=\"T_c1ad6_row5_col4\" class=\"data row5 col4\" >0.1587</td>\n",
       "      <td id=\"T_c1ad6_row5_col5\" class=\"data row5 col5\" >0.1055</td>\n",
       "    </tr>\n",
       "    <tr>\n",
       "      <th id=\"T_c1ad6_level0_row6\" class=\"row_heading level0 row6\" >6</th>\n",
       "      <td id=\"T_c1ad6_row6_col0\" class=\"data row6 col0\" >21610.4557</td>\n",
       "      <td id=\"T_c1ad6_row6_col1\" class=\"data row6 col1\" >1243995694.3743</td>\n",
       "      <td id=\"T_c1ad6_row6_col2\" class=\"data row6 col2\" >35270.3231</td>\n",
       "      <td id=\"T_c1ad6_row6_col3\" class=\"data row6 col3\" >0.8503</td>\n",
       "      <td id=\"T_c1ad6_row6_col4\" class=\"data row6 col4\" >0.1452</td>\n",
       "      <td id=\"T_c1ad6_row6_col5\" class=\"data row6 col5\" >0.1091</td>\n",
       "    </tr>\n",
       "    <tr>\n",
       "      <th id=\"T_c1ad6_level0_row7\" class=\"row_heading level0 row7\" >7</th>\n",
       "      <td id=\"T_c1ad6_row7_col0\" class=\"data row7 col0\" >19563.4849</td>\n",
       "      <td id=\"T_c1ad6_row7_col1\" class=\"data row7 col1\" >1447391744.0109</td>\n",
       "      <td id=\"T_c1ad6_row7_col2\" class=\"data row7 col2\" >38044.6020</td>\n",
       "      <td id=\"T_c1ad6_row7_col3\" class=\"data row7 col3\" >0.8349</td>\n",
       "      <td id=\"T_c1ad6_row7_col4\" class=\"data row7 col4\" >0.1632</td>\n",
       "      <td id=\"T_c1ad6_row7_col5\" class=\"data row7 col5\" >0.1132</td>\n",
       "    </tr>\n",
       "    <tr>\n",
       "      <th id=\"T_c1ad6_level0_row8\" class=\"row_heading level0 row8\" >8</th>\n",
       "      <td id=\"T_c1ad6_row8_col0\" class=\"data row8 col0\" >18982.5103</td>\n",
       "      <td id=\"T_c1ad6_row8_col1\" class=\"data row8 col1\" >852126690.9484</td>\n",
       "      <td id=\"T_c1ad6_row8_col2\" class=\"data row8 col2\" >29191.2091</td>\n",
       "      <td id=\"T_c1ad6_row8_col3\" class=\"data row8 col3\" >0.8864</td>\n",
       "      <td id=\"T_c1ad6_row8_col4\" class=\"data row8 col4\" >0.1253</td>\n",
       "      <td id=\"T_c1ad6_row8_col5\" class=\"data row8 col5\" >0.0962</td>\n",
       "    </tr>\n",
       "    <tr>\n",
       "      <th id=\"T_c1ad6_level0_row9\" class=\"row_heading level0 row9\" >9</th>\n",
       "      <td id=\"T_c1ad6_row9_col0\" class=\"data row9 col0\" >15996.0086</td>\n",
       "      <td id=\"T_c1ad6_row9_col1\" class=\"data row9 col1\" >451030695.6076</td>\n",
       "      <td id=\"T_c1ad6_row9_col2\" class=\"data row9 col2\" >21237.4833</td>\n",
       "      <td id=\"T_c1ad6_row9_col3\" class=\"data row9 col3\" >0.9227</td>\n",
       "      <td id=\"T_c1ad6_row9_col4\" class=\"data row9 col4\" >0.1245</td>\n",
       "      <td id=\"T_c1ad6_row9_col5\" class=\"data row9 col5\" >0.0919</td>\n",
       "    </tr>\n",
       "    <tr>\n",
       "      <th id=\"T_c1ad6_level0_row10\" class=\"row_heading level0 row10\" >Mean</th>\n",
       "      <td id=\"T_c1ad6_row10_col0\" class=\"data row10 col0\" >18403.6166</td>\n",
       "      <td id=\"T_c1ad6_row10_col1\" class=\"data row10 col1\" >951277232.8775</td>\n",
       "      <td id=\"T_c1ad6_row10_col2\" class=\"data row10 col2\" >30105.5460</td>\n",
       "      <td id=\"T_c1ad6_row10_col3\" class=\"data row10 col3\" >0.8432</td>\n",
       "      <td id=\"T_c1ad6_row10_col4\" class=\"data row10 col4\" >0.1516</td>\n",
       "      <td id=\"T_c1ad6_row10_col5\" class=\"data row10 col5\" >0.1085</td>\n",
       "    </tr>\n",
       "    <tr>\n",
       "      <th id=\"T_c1ad6_level0_row11\" class=\"row_heading level0 row11\" >Std</th>\n",
       "      <td id=\"T_c1ad6_row11_col0\" class=\"data row11 col0\" >1941.9243</td>\n",
       "      <td id=\"T_c1ad6_row11_col1\" class=\"data row11 col1\" >425222289.8711</td>\n",
       "      <td id=\"T_c1ad6_row11_col2\" class=\"data row11 col2\" >6703.2328</td>\n",
       "      <td id=\"T_c1ad6_row11_col3\" class=\"data row11 col3\" >0.0873</td>\n",
       "      <td id=\"T_c1ad6_row11_col4\" class=\"data row11 col4\" >0.0182</td>\n",
       "      <td id=\"T_c1ad6_row11_col5\" class=\"data row11 col5\" >0.0101</td>\n",
       "    </tr>\n",
       "  </tbody>\n",
       "</table>\n"
      ],
      "text/plain": [
       "<pandas.io.formats.style.Styler at 0x25a83415f70>"
      ]
     },
     "metadata": {},
     "output_type": "display_data"
    },
    {
     "data": {
      "application/vnd.jupyter.widget-view+json": {
       "model_id": "514c8b65e70f4658bfcaf5e9c280c2f6",
       "version_major": 2,
       "version_minor": 0
      },
      "text/plain": [
       "Processing:   0%|          | 0/7 [00:00<?, ?it/s]"
      ]
     },
     "metadata": {},
     "output_type": "display_data"
    },
    {
     "name": "stdout",
     "output_type": "stream",
     "text": [
      "Fitting 10 folds for each of 10 candidates, totalling 100 fits\n",
      "Original model was better than the tuned model, hence it will be returned. NOTE: The display metrics are for the tuned model (not the original one).\n"
     ]
    },
    {
     "data": {
      "text/html": [],
      "text/plain": [
       "<IPython.core.display.HTML object>"
      ]
     },
     "metadata": {},
     "output_type": "display_data"
    },
    {
     "data": {
      "text/html": [
       "<style type=\"text/css\">\n",
       "#T_a56af_row10_col0, #T_a56af_row10_col1, #T_a56af_row10_col2, #T_a56af_row10_col3, #T_a56af_row10_col4, #T_a56af_row10_col5 {\n",
       "  background: yellow;\n",
       "}\n",
       "</style>\n",
       "<table id=\"T_a56af\">\n",
       "  <thead>\n",
       "    <tr>\n",
       "      <th class=\"blank level0\" >&nbsp;</th>\n",
       "      <th id=\"T_a56af_level0_col0\" class=\"col_heading level0 col0\" >MAE</th>\n",
       "      <th id=\"T_a56af_level0_col1\" class=\"col_heading level0 col1\" >MSE</th>\n",
       "      <th id=\"T_a56af_level0_col2\" class=\"col_heading level0 col2\" >RMSE</th>\n",
       "      <th id=\"T_a56af_level0_col3\" class=\"col_heading level0 col3\" >R2</th>\n",
       "      <th id=\"T_a56af_level0_col4\" class=\"col_heading level0 col4\" >RMSLE</th>\n",
       "      <th id=\"T_a56af_level0_col5\" class=\"col_heading level0 col5\" >MAPE</th>\n",
       "    </tr>\n",
       "    <tr>\n",
       "      <th class=\"index_name level0\" >Fold</th>\n",
       "      <th class=\"blank col0\" >&nbsp;</th>\n",
       "      <th class=\"blank col1\" >&nbsp;</th>\n",
       "      <th class=\"blank col2\" >&nbsp;</th>\n",
       "      <th class=\"blank col3\" >&nbsp;</th>\n",
       "      <th class=\"blank col4\" >&nbsp;</th>\n",
       "      <th class=\"blank col5\" >&nbsp;</th>\n",
       "    </tr>\n",
       "  </thead>\n",
       "  <tbody>\n",
       "    <tr>\n",
       "      <th id=\"T_a56af_level0_row0\" class=\"row_heading level0 row0\" >0</th>\n",
       "      <td id=\"T_a56af_row0_col0\" class=\"data row0 col0\" >21613.2144</td>\n",
       "      <td id=\"T_a56af_row0_col1\" class=\"data row0 col1\" >962022531.4501</td>\n",
       "      <td id=\"T_a56af_row0_col2\" class=\"data row0 col2\" >31016.4881</td>\n",
       "      <td id=\"T_a56af_row0_col3\" class=\"data row0 col3\" >0.8511</td>\n",
       "      <td id=\"T_a56af_row0_col4\" class=\"data row0 col4\" >0.1538</td>\n",
       "      <td id=\"T_a56af_row0_col5\" class=\"data row0 col5\" >0.1244</td>\n",
       "    </tr>\n",
       "    <tr>\n",
       "      <th id=\"T_a56af_level0_row1\" class=\"row_heading level0 row1\" >1</th>\n",
       "      <td id=\"T_a56af_row1_col0\" class=\"data row1 col0\" >17645.0684</td>\n",
       "      <td id=\"T_a56af_row1_col1\" class=\"data row1 col1\" >581706371.8749</td>\n",
       "      <td id=\"T_a56af_row1_col2\" class=\"data row1 col2\" >24118.5898</td>\n",
       "      <td id=\"T_a56af_row1_col3\" class=\"data row1 col3\" >0.8458</td>\n",
       "      <td id=\"T_a56af_row1_col4\" class=\"data row1 col4\" >0.1799</td>\n",
       "      <td id=\"T_a56af_row1_col5\" class=\"data row1 col5\" >0.1351</td>\n",
       "    </tr>\n",
       "    <tr>\n",
       "      <th id=\"T_a56af_level0_row2\" class=\"row_heading level0 row2\" >2</th>\n",
       "      <td id=\"T_a56af_row2_col0\" class=\"data row2 col0\" >17183.5755</td>\n",
       "      <td id=\"T_a56af_row2_col1\" class=\"data row2 col1\" >571874295.1480</td>\n",
       "      <td id=\"T_a56af_row2_col2\" class=\"data row2 col2\" >23913.8933</td>\n",
       "      <td id=\"T_a56af_row2_col3\" class=\"data row2 col3\" >0.8794</td>\n",
       "      <td id=\"T_a56af_row2_col4\" class=\"data row2 col4\" >0.1602</td>\n",
       "      <td id=\"T_a56af_row2_col5\" class=\"data row2 col5\" >0.1153</td>\n",
       "    </tr>\n",
       "    <tr>\n",
       "      <th id=\"T_a56af_level0_row3\" class=\"row_heading level0 row3\" >3</th>\n",
       "      <td id=\"T_a56af_row3_col0\" class=\"data row3 col0\" >18276.4107</td>\n",
       "      <td id=\"T_a56af_row3_col1\" class=\"data row3 col1\" >914424000.5527</td>\n",
       "      <td id=\"T_a56af_row3_col2\" class=\"data row3 col2\" >30239.4444</td>\n",
       "      <td id=\"T_a56af_row3_col3\" class=\"data row3 col3\" >0.8496</td>\n",
       "      <td id=\"T_a56af_row3_col4\" class=\"data row3 col4\" >0.1328</td>\n",
       "      <td id=\"T_a56af_row3_col5\" class=\"data row3 col5\" >0.0957</td>\n",
       "    </tr>\n",
       "    <tr>\n",
       "      <th id=\"T_a56af_level0_row4\" class=\"row_heading level0 row4\" >4</th>\n",
       "      <td id=\"T_a56af_row4_col0\" class=\"data row4 col0\" >24925.2692</td>\n",
       "      <td id=\"T_a56af_row4_col1\" class=\"data row4 col1\" >2520232648.0786</td>\n",
       "      <td id=\"T_a56af_row4_col2\" class=\"data row4 col2\" >50201.9188</td>\n",
       "      <td id=\"T_a56af_row4_col3\" class=\"data row4 col3\" >0.4507</td>\n",
       "      <td id=\"T_a56af_row4_col4\" class=\"data row4 col4\" >0.2060</td>\n",
       "      <td id=\"T_a56af_row4_col5\" class=\"data row4 col5\" >0.1434</td>\n",
       "    </tr>\n",
       "    <tr>\n",
       "      <th id=\"T_a56af_level0_row5\" class=\"row_heading level0 row5\" >5</th>\n",
       "      <td id=\"T_a56af_row5_col0\" class=\"data row5 col0\" >16884.5194</td>\n",
       "      <td id=\"T_a56af_row5_col1\" class=\"data row5 col1\" >548026779.1855</td>\n",
       "      <td id=\"T_a56af_row5_col2\" class=\"data row5 col2\" >23409.9718</td>\n",
       "      <td id=\"T_a56af_row5_col3\" class=\"data row5 col3\" >0.9292</td>\n",
       "      <td id=\"T_a56af_row5_col4\" class=\"data row5 col4\" >0.1587</td>\n",
       "      <td id=\"T_a56af_row5_col5\" class=\"data row5 col5\" >0.1087</td>\n",
       "    </tr>\n",
       "    <tr>\n",
       "      <th id=\"T_a56af_level0_row6\" class=\"row_heading level0 row6\" >6</th>\n",
       "      <td id=\"T_a56af_row6_col0\" class=\"data row6 col0\" >21741.2383</td>\n",
       "      <td id=\"T_a56af_row6_col1\" class=\"data row6 col1\" >1057392742.9117</td>\n",
       "      <td id=\"T_a56af_row6_col2\" class=\"data row6 col2\" >32517.5759</td>\n",
       "      <td id=\"T_a56af_row6_col3\" class=\"data row6 col3\" >0.8727</td>\n",
       "      <td id=\"T_a56af_row6_col4\" class=\"data row6 col4\" >0.1653</td>\n",
       "      <td id=\"T_a56af_row6_col5\" class=\"data row6 col5\" >0.1237</td>\n",
       "    </tr>\n",
       "    <tr>\n",
       "      <th id=\"T_a56af_level0_row7\" class=\"row_heading level0 row7\" >7</th>\n",
       "      <td id=\"T_a56af_row7_col0\" class=\"data row7 col0\" >20836.9125</td>\n",
       "      <td id=\"T_a56af_row7_col1\" class=\"data row7 col1\" >1275209321.7360</td>\n",
       "      <td id=\"T_a56af_row7_col2\" class=\"data row7 col2\" >35710.0731</td>\n",
       "      <td id=\"T_a56af_row7_col3\" class=\"data row7 col3\" >0.8545</td>\n",
       "      <td id=\"T_a56af_row7_col4\" class=\"data row7 col4\" >0.1678</td>\n",
       "      <td id=\"T_a56af_row7_col5\" class=\"data row7 col5\" >0.1223</td>\n",
       "    </tr>\n",
       "    <tr>\n",
       "      <th id=\"T_a56af_level0_row8\" class=\"row_heading level0 row8\" >8</th>\n",
       "      <td id=\"T_a56af_row8_col0\" class=\"data row8 col0\" >18418.0276</td>\n",
       "      <td id=\"T_a56af_row8_col1\" class=\"data row8 col1\" >779607342.8367</td>\n",
       "      <td id=\"T_a56af_row8_col2\" class=\"data row8 col2\" >27921.4495</td>\n",
       "      <td id=\"T_a56af_row8_col3\" class=\"data row8 col3\" >0.8961</td>\n",
       "      <td id=\"T_a56af_row8_col4\" class=\"data row8 col4\" >0.1281</td>\n",
       "      <td id=\"T_a56af_row8_col5\" class=\"data row8 col5\" >0.0962</td>\n",
       "    </tr>\n",
       "    <tr>\n",
       "      <th id=\"T_a56af_level0_row9\" class=\"row_heading level0 row9\" >9</th>\n",
       "      <td id=\"T_a56af_row9_col0\" class=\"data row9 col0\" >16410.4749</td>\n",
       "      <td id=\"T_a56af_row9_col1\" class=\"data row9 col1\" >520619409.3071</td>\n",
       "      <td id=\"T_a56af_row9_col2\" class=\"data row9 col2\" >22817.0859</td>\n",
       "      <td id=\"T_a56af_row9_col3\" class=\"data row9 col3\" >0.9107</td>\n",
       "      <td id=\"T_a56af_row9_col4\" class=\"data row9 col4\" >0.1324</td>\n",
       "      <td id=\"T_a56af_row9_col5\" class=\"data row9 col5\" >0.0961</td>\n",
       "    </tr>\n",
       "    <tr>\n",
       "      <th id=\"T_a56af_level0_row10\" class=\"row_heading level0 row10\" >Mean</th>\n",
       "      <td id=\"T_a56af_row10_col0\" class=\"data row10 col0\" >19393.4711</td>\n",
       "      <td id=\"T_a56af_row10_col1\" class=\"data row10 col1\" >973111544.3081</td>\n",
       "      <td id=\"T_a56af_row10_col2\" class=\"data row10 col2\" >30186.6491</td>\n",
       "      <td id=\"T_a56af_row10_col3\" class=\"data row10 col3\" >0.8340</td>\n",
       "      <td id=\"T_a56af_row10_col4\" class=\"data row10 col4\" >0.1585</td>\n",
       "      <td id=\"T_a56af_row10_col5\" class=\"data row10 col5\" >0.1161</td>\n",
       "    </tr>\n",
       "    <tr>\n",
       "      <th id=\"T_a56af_level0_row11\" class=\"row_heading level0 row11\" >Std</th>\n",
       "      <td id=\"T_a56af_row11_col0\" class=\"data row11 col0\" >2616.4203</td>\n",
       "      <td id=\"T_a56af_row11_col1\" class=\"data row11 col1\" >568559292.9660</td>\n",
       "      <td id=\"T_a56af_row11_col2\" class=\"data row11 col2\" >7866.2420</td>\n",
       "      <td id=\"T_a56af_row11_col3\" class=\"data row11 col3\" >0.1305</td>\n",
       "      <td id=\"T_a56af_row11_col4\" class=\"data row11 col4\" >0.0227</td>\n",
       "      <td id=\"T_a56af_row11_col5\" class=\"data row11 col5\" >0.0159</td>\n",
       "    </tr>\n",
       "  </tbody>\n",
       "</table>\n"
      ],
      "text/plain": [
       "<pandas.io.formats.style.Styler at 0x25af1ef2dc0>"
      ]
     },
     "metadata": {},
     "output_type": "display_data"
    },
    {
     "data": {
      "application/vnd.jupyter.widget-view+json": {
       "model_id": "0b6f20afa56846c9ade84bd0288d5c46",
       "version_major": 2,
       "version_minor": 0
      },
      "text/plain": [
       "Processing:   0%|          | 0/7 [00:00<?, ?it/s]"
      ]
     },
     "metadata": {},
     "output_type": "display_data"
    },
    {
     "name": "stdout",
     "output_type": "stream",
     "text": [
      "Fitting 10 folds for each of 10 candidates, totalling 100 fits\n",
      "Original model was better than the tuned model, hence it will be returned. NOTE: The display metrics are for the tuned model (not the original one).\n"
     ]
    }
   ],
   "source": [
    "tuned_model1 = tune_model(model1)\n",
    "tuned_model2 = tune_model(model2)"
   ]
  },
  {
   "cell_type": "code",
   "execution_count": 41,
   "metadata": {},
   "outputs": [
    {
     "data": {
      "application/vnd.jupyter.widget-view+json": {
       "model_id": "5b9e9c3c7a3e46df943a08cdc9b8ca6e",
       "version_major": 2,
       "version_minor": 0
      },
      "text/plain": [
       "interactive(children=(ToggleButtons(description='Plot Type:', icons=('',), options=(('Pipeline Plot', 'pipelin…"
      ]
     },
     "metadata": {},
     "output_type": "display_data"
    },
    {
     "data": {
      "application/vnd.jupyter.widget-view+json": {
       "model_id": "af4fd1d81fc44c0ba785ecd57f3a6275",
       "version_major": 2,
       "version_minor": 0
      },
      "text/plain": [
       "interactive(children=(ToggleButtons(description='Plot Type:', icons=('',), options=(('Pipeline Plot', 'pipelin…"
      ]
     },
     "metadata": {},
     "output_type": "display_data"
    },
    {
     "data": {
      "application/vnd.jupyter.widget-view+json": {
       "model_id": "d7e30df42e344c9b8c1b2db5eb66cdbe",
       "version_major": 2,
       "version_minor": 0
      },
      "text/plain": [
       "interactive(children=(ToggleButtons(description='Plot Type:', icons=('',), options=(('Pipeline Plot', 'pipelin…"
      ]
     },
     "metadata": {},
     "output_type": "display_data"
    },
    {
     "data": {
      "application/vnd.jupyter.widget-view+json": {
       "model_id": "4863ff2fe1284e218586dae74023b47b",
       "version_major": 2,
       "version_minor": 0
      },
      "text/plain": [
       "interactive(children=(ToggleButtons(description='Plot Type:', icons=('',), options=(('Pipeline Plot', 'pipelin…"
      ]
     },
     "metadata": {},
     "output_type": "display_data"
    }
   ],
   "source": [
    "evaluate_model(model1)\n",
    "evaluate_model(tuned_model1)\n",
    "\n",
    "evaluate_model(model2)\n",
    "evaluate_model(tuned_model2)"
   ]
  },
  {
   "cell_type": "markdown",
   "metadata": {},
   "source": [
    "8. Selección del modelo final:"
   ]
  },
  {
   "cell_type": "code",
   "execution_count": 67,
   "metadata": {},
   "outputs": [
    {
     "data": {
      "text/html": [],
      "text/plain": [
       "<IPython.core.display.HTML object>"
      ]
     },
     "metadata": {},
     "output_type": "display_data"
    },
    {
     "data": {
      "text/html": [],
      "text/plain": [
       "<IPython.core.display.HTML object>"
      ]
     },
     "metadata": {},
     "output_type": "display_data"
    },
    {
     "data": {
      "application/vnd.jupyter.widget-view+json": {
       "model_id": "a852168561b64da7a6f9dca5018990ed",
       "version_major": 2,
       "version_minor": 0
      },
      "text/plain": [
       "Processing:   0%|          | 0/81 [00:00<?, ?it/s]"
      ]
     },
     "metadata": {},
     "output_type": "display_data"
    }
   ],
   "source": [
    "best_model = compare_models()"
   ]
  },
  {
   "cell_type": "code",
   "execution_count": 69,
   "metadata": {},
   "outputs": [],
   "source": [
    "df_reset = df.reset_index(drop=True)"
   ]
  },
  {
   "cell_type": "markdown",
   "metadata": {},
   "source": [
    "9. Almacenamiento del pipeline en el disco duro."
   ]
  },
  {
   "cell_type": "code",
   "execution_count": 83,
   "metadata": {},
   "outputs": [
    {
     "name": "stdout",
     "output_type": "stream",
     "text": [
      "Transformation Pipeline and Model Successfully Saved\n"
     ]
    },
    {
     "data": {
      "text/plain": [
       "(Pipeline(memory=Memory(location=None),\n",
       "          steps=[('numerical_imputer',\n",
       "                  TransformerWrapper(exclude=None,\n",
       "                                     include=['Id', 'MSSubClass', 'LotFrontage',\n",
       "                                              'LotArea', 'OverallQual',\n",
       "                                              'OverallCond', 'YearBuilt',\n",
       "                                              'YearRemodAdd', 'MasVnrArea',\n",
       "                                              'BsmtFinSF1', 'BsmtFinSF2',\n",
       "                                              'BsmtUnfSF', 'TotalBsmtSF',\n",
       "                                              '1stFlrSF', '2ndFlrSF',\n",
       "                                              'LowQualFinSF', 'GrLivArea',\n",
       "                                              'BsmtFullBath', 'BsmtHalfBath',\n",
       "                                              'F...\n",
       "                  LGBMRegressor(boosting_type='gbdt', class_weight=None,\n",
       "                                colsample_bytree=1.0, importance_type='split',\n",
       "                                learning_rate=0.1, max_depth=-1,\n",
       "                                min_child_samples=20, min_child_weight=0.001,\n",
       "                                min_split_gain=0.0, n_estimators=100, n_jobs=-1,\n",
       "                                num_leaves=31, objective=None, random_state=4701,\n",
       "                                reg_alpha=0.0, reg_lambda=0.0, silent='warn',\n",
       "                                subsample=1.0, subsample_for_bin=200000,\n",
       "                                subsample_freq=0))],\n",
       "          verbose=False),\n",
       " 'lab2.pkl')"
      ]
     },
     "execution_count": 83,
     "metadata": {},
     "output_type": "execute_result"
    }
   ],
   "source": [
    "save_model(best_model, 'lab2')"
   ]
  },
  {
   "cell_type": "markdown",
   "metadata": {},
   "source": [
    "10. Predicciones"
   ]
  },
  {
   "cell_type": "code",
   "execution_count": 84,
   "metadata": {},
   "outputs": [],
   "source": [
    "from pycaret.classification import load_model"
   ]
  },
  {
   "cell_type": "code",
   "execution_count": 86,
   "metadata": {},
   "outputs": [
    {
     "name": "stdout",
     "output_type": "stream",
     "text": [
      "Transformation Pipeline and Model Successfully Loaded\n"
     ]
    }
   ],
   "source": [
    "loaded_model = load_model('lab2')"
   ]
  },
  {
   "cell_type": "code",
   "execution_count": 88,
   "metadata": {},
   "outputs": [
    {
     "data": {
      "text/html": [
       "<style type=\"text/css\">\n",
       "</style>\n",
       "<table id=\"T_192d6\">\n",
       "  <thead>\n",
       "    <tr>\n",
       "      <th class=\"blank level0\" >&nbsp;</th>\n",
       "      <th id=\"T_192d6_level0_col0\" class=\"col_heading level0 col0\" >Model</th>\n",
       "      <th id=\"T_192d6_level0_col1\" class=\"col_heading level0 col1\" >MAE</th>\n",
       "      <th id=\"T_192d6_level0_col2\" class=\"col_heading level0 col2\" >MSE</th>\n",
       "      <th id=\"T_192d6_level0_col3\" class=\"col_heading level0 col3\" >RMSE</th>\n",
       "      <th id=\"T_192d6_level0_col4\" class=\"col_heading level0 col4\" >R2</th>\n",
       "      <th id=\"T_192d6_level0_col5\" class=\"col_heading level0 col5\" >RMSLE</th>\n",
       "      <th id=\"T_192d6_level0_col6\" class=\"col_heading level0 col6\" >MAPE</th>\n",
       "    </tr>\n",
       "  </thead>\n",
       "  <tbody>\n",
       "    <tr>\n",
       "      <th id=\"T_192d6_level0_row0\" class=\"row_heading level0 row0\" >0</th>\n",
       "      <td id=\"T_192d6_row0_col0\" class=\"data row0 col0\" >Light Gradient Boosting Machine</td>\n",
       "      <td id=\"T_192d6_row0_col1\" class=\"data row0 col1\" >8079.3173</td>\n",
       "      <td id=\"T_192d6_row0_col2\" class=\"data row0 col2\" >195620730.4010</td>\n",
       "      <td id=\"T_192d6_row0_col3\" class=\"data row0 col3\" >13986.4481</td>\n",
       "      <td id=\"T_192d6_row0_col4\" class=\"data row0 col4\" >0.9626</td>\n",
       "      <td id=\"T_192d6_row0_col5\" class=\"data row0 col5\" >0.0800</td>\n",
       "      <td id=\"T_192d6_row0_col6\" class=\"data row0 col6\" >0.0479</td>\n",
       "    </tr>\n",
       "  </tbody>\n",
       "</table>\n"
      ],
      "text/plain": [
       "<pandas.io.formats.style.Styler at 0x25a89073880>"
      ]
     },
     "metadata": {},
     "output_type": "display_data"
    }
   ],
   "source": [
    "predictions = predict_model(loaded_model, data=test_data)"
   ]
  }
 ],
 "metadata": {
  "kernelspec": {
   "display_name": "base",
   "language": "python",
   "name": "python3"
  },
  "language_info": {
   "codemirror_mode": {
    "name": "ipython",
    "version": 3
   },
   "file_extension": ".py",
   "mimetype": "text/x-python",
   "name": "python",
   "nbconvert_exporter": "python",
   "pygments_lexer": "ipython3",
   "version": "3.9.12"
  }
 },
 "nbformat": 4,
 "nbformat_minor": 2
}
